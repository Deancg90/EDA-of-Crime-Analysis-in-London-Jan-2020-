{
 "cells": [
  {
   "cell_type": "markdown",
   "id": "d67406e7",
   "metadata": {
    "papermill": {
     "duration": 0.010428,
     "end_time": "2024-06-08T19:52:35.354701",
     "exception": false,
     "start_time": "2024-06-08T19:52:35.344273",
     "status": "completed"
    },
    "tags": []
   },
   "source": [
    "# Step 0: Import the relevent libraries & Database"
   ]
  },
  {
   "cell_type": "code",
   "execution_count": 1,
   "id": "3379a7a1",
   "metadata": {
    "_cell_guid": "b1076dfc-b9ad-4769-8c92-a6c4dae69d19",
    "_uuid": "8f2839f25d086af736a60e9eeb907d3b93b6e0e5",
    "execution": {
     "iopub.execute_input": "2024-06-08T19:52:35.376484Z",
     "iopub.status.busy": "2024-06-08T19:52:35.376004Z",
     "iopub.status.idle": "2024-06-08T19:52:37.671005Z",
     "shell.execute_reply": "2024-06-08T19:52:37.669652Z"
    },
    "papermill": {
     "duration": 2.309376,
     "end_time": "2024-06-08T19:52:37.673854",
     "exception": false,
     "start_time": "2024-06-08T19:52:35.364478",
     "status": "completed"
    },
    "tags": []
   },
   "outputs": [
    {
     "name": "stdout",
     "output_type": "stream",
     "text": [
      "/kaggle/input/london-crime-jan-2020/2020-01-metropolitan-street.csv\n"
     ]
    }
   ],
   "source": [
    "# This Python 3 environment comes with many helpful analytics libraries installed\n",
    "# It is defined by the kaggle/python Docker image: https://github.com/kaggle/docker-python\n",
    "# For example, here's several helpful packages to load\n",
    "\n",
    "import numpy as np # linear algebra\n",
    "import pandas as pd # data processing, CSV file I/O (e.g. pd.read_csv)\n",
    "import matplotlib.pylab as plt\n",
    "import seaborn as sns\n",
    "plt.style.use('ggplot')\n",
    "pd.set_option('display.max_columns', 200)\n",
    "\n",
    "# Input data files are available in the read-only \"../input/\" directory\n",
    "# For example, running this (by clicking run or pressing Shift+Enter) will list all files under the input directory\n",
    "\n",
    "import os\n",
    "for dirname, _, filenames in os.walk('/kaggle/input'):\n",
    "    for filename in filenames:\n",
    "        print(os.path.join(dirname, filename))\n",
    "\n",
    "# You can write up to 20GB to the current directory (/kaggle/working/) that gets preserved as output when you create a version using \"Save & Run All\" \n",
    "# You can also write temporary files to /kaggle/temp/, but they won't be saved outside of the current session"
   ]
  },
  {
   "cell_type": "code",
   "execution_count": 2,
   "id": "8753c9a2",
   "metadata": {
    "execution": {
     "iopub.execute_input": "2024-06-08T19:52:37.696476Z",
     "iopub.status.busy": "2024-06-08T19:52:37.695856Z",
     "iopub.status.idle": "2024-06-08T19:52:38.318295Z",
     "shell.execute_reply": "2024-06-08T19:52:38.317073Z"
    },
    "papermill": {
     "duration": 0.637248,
     "end_time": "2024-06-08T19:52:38.321437",
     "exception": false,
     "start_time": "2024-06-08T19:52:37.684189",
     "status": "completed"
    },
    "tags": []
   },
   "outputs": [],
   "source": [
    "df = pd.read_csv('/kaggle/input/london-crime-jan-2020/2020-01-metropolitan-street.csv')"
   ]
  },
  {
   "cell_type": "markdown",
   "id": "8ab3c3f2",
   "metadata": {
    "papermill": {
     "duration": 0.009074,
     "end_time": "2024-06-08T19:52:38.340147",
     "exception": false,
     "start_time": "2024-06-08T19:52:38.331073",
     "status": "completed"
    },
    "tags": []
   },
   "source": [
    "# Step 1: Data Understanding."
   ]
  },
  {
   "cell_type": "code",
   "execution_count": 3,
   "id": "c2f30fde",
   "metadata": {
    "execution": {
     "iopub.execute_input": "2024-06-08T19:52:38.361766Z",
     "iopub.status.busy": "2024-06-08T19:52:38.361308Z",
     "iopub.status.idle": "2024-06-08T19:52:38.391145Z",
     "shell.execute_reply": "2024-06-08T19:52:38.389853Z"
    },
    "papermill": {
     "duration": 0.044066,
     "end_time": "2024-06-08T19:52:38.393560",
     "exception": false,
     "start_time": "2024-06-08T19:52:38.349494",
     "status": "completed"
    },
    "tags": []
   },
   "outputs": [
    {
     "data": {
      "text/html": [
       "<div>\n",
       "<style scoped>\n",
       "    .dataframe tbody tr th:only-of-type {\n",
       "        vertical-align: middle;\n",
       "    }\n",
       "\n",
       "    .dataframe tbody tr th {\n",
       "        vertical-align: top;\n",
       "    }\n",
       "\n",
       "    .dataframe thead th {\n",
       "        text-align: right;\n",
       "    }\n",
       "</style>\n",
       "<table border=\"1\" class=\"dataframe\">\n",
       "  <thead>\n",
       "    <tr style=\"text-align: right;\">\n",
       "      <th></th>\n",
       "      <th>Crime ID</th>\n",
       "      <th>Month</th>\n",
       "      <th>Reported by</th>\n",
       "      <th>Falls within</th>\n",
       "      <th>Longitude</th>\n",
       "      <th>Latitude</th>\n",
       "      <th>Location</th>\n",
       "      <th>LSOA code</th>\n",
       "      <th>LSOA name</th>\n",
       "      <th>Crime type</th>\n",
       "      <th>Last outcome category</th>\n",
       "      <th>Context</th>\n",
       "    </tr>\n",
       "  </thead>\n",
       "  <tbody>\n",
       "    <tr>\n",
       "      <th>0</th>\n",
       "      <td>24c2b43c34c7cd6ef847d69fbb042c9c730b1eebe95c52...</td>\n",
       "      <td>2020-01</td>\n",
       "      <td>Metropolitan Police Service</td>\n",
       "      <td>Metropolitan Police Service</td>\n",
       "      <td>-0.539301</td>\n",
       "      <td>50.817200</td>\n",
       "      <td>On or near Highdown Drive</td>\n",
       "      <td>E01031469</td>\n",
       "      <td>Arun 009F</td>\n",
       "      <td>Other theft</td>\n",
       "      <td>Status update unavailable</td>\n",
       "      <td>NaN</td>\n",
       "    </tr>\n",
       "    <tr>\n",
       "      <th>1</th>\n",
       "      <td>NaN</td>\n",
       "      <td>2020-01</td>\n",
       "      <td>Metropolitan Police Service</td>\n",
       "      <td>Metropolitan Police Service</td>\n",
       "      <td>0.137065</td>\n",
       "      <td>51.583672</td>\n",
       "      <td>On or near Police Station</td>\n",
       "      <td>E01000027</td>\n",
       "      <td>Barking and Dagenham 001A</td>\n",
       "      <td>Anti-social behaviour</td>\n",
       "      <td>NaN</td>\n",
       "      <td>NaN</td>\n",
       "    </tr>\n",
       "    <tr>\n",
       "      <th>2</th>\n",
       "      <td>NaN</td>\n",
       "      <td>2020-01</td>\n",
       "      <td>Metropolitan Police Service</td>\n",
       "      <td>Metropolitan Police Service</td>\n",
       "      <td>0.140035</td>\n",
       "      <td>51.589112</td>\n",
       "      <td>On or near Beansland Grove</td>\n",
       "      <td>E01000027</td>\n",
       "      <td>Barking and Dagenham 001A</td>\n",
       "      <td>Anti-social behaviour</td>\n",
       "      <td>NaN</td>\n",
       "      <td>NaN</td>\n",
       "    </tr>\n",
       "    <tr>\n",
       "      <th>3</th>\n",
       "      <td>NaN</td>\n",
       "      <td>2020-01</td>\n",
       "      <td>Metropolitan Police Service</td>\n",
       "      <td>Metropolitan Police Service</td>\n",
       "      <td>0.137065</td>\n",
       "      <td>51.583672</td>\n",
       "      <td>On or near Police Station</td>\n",
       "      <td>E01000027</td>\n",
       "      <td>Barking and Dagenham 001A</td>\n",
       "      <td>Anti-social behaviour</td>\n",
       "      <td>NaN</td>\n",
       "      <td>NaN</td>\n",
       "    </tr>\n",
       "    <tr>\n",
       "      <th>4</th>\n",
       "      <td>NaN</td>\n",
       "      <td>2020-01</td>\n",
       "      <td>Metropolitan Police Service</td>\n",
       "      <td>Metropolitan Police Service</td>\n",
       "      <td>0.141143</td>\n",
       "      <td>51.590873</td>\n",
       "      <td>On or near Furze Farm Close</td>\n",
       "      <td>E01000027</td>\n",
       "      <td>Barking and Dagenham 001A</td>\n",
       "      <td>Anti-social behaviour</td>\n",
       "      <td>NaN</td>\n",
       "      <td>NaN</td>\n",
       "    </tr>\n",
       "  </tbody>\n",
       "</table>\n",
       "</div>"
      ],
      "text/plain": [
       "                                            Crime ID    Month  \\\n",
       "0  24c2b43c34c7cd6ef847d69fbb042c9c730b1eebe95c52...  2020-01   \n",
       "1                                                NaN  2020-01   \n",
       "2                                                NaN  2020-01   \n",
       "3                                                NaN  2020-01   \n",
       "4                                                NaN  2020-01   \n",
       "\n",
       "                   Reported by                 Falls within  Longitude  \\\n",
       "0  Metropolitan Police Service  Metropolitan Police Service  -0.539301   \n",
       "1  Metropolitan Police Service  Metropolitan Police Service   0.137065   \n",
       "2  Metropolitan Police Service  Metropolitan Police Service   0.140035   \n",
       "3  Metropolitan Police Service  Metropolitan Police Service   0.137065   \n",
       "4  Metropolitan Police Service  Metropolitan Police Service   0.141143   \n",
       "\n",
       "    Latitude                     Location  LSOA code  \\\n",
       "0  50.817200    On or near Highdown Drive  E01031469   \n",
       "1  51.583672    On or near Police Station  E01000027   \n",
       "2  51.589112   On or near Beansland Grove  E01000027   \n",
       "3  51.583672    On or near Police Station  E01000027   \n",
       "4  51.590873  On or near Furze Farm Close  E01000027   \n",
       "\n",
       "                   LSOA name             Crime type  \\\n",
       "0                  Arun 009F            Other theft   \n",
       "1  Barking and Dagenham 001A  Anti-social behaviour   \n",
       "2  Barking and Dagenham 001A  Anti-social behaviour   \n",
       "3  Barking and Dagenham 001A  Anti-social behaviour   \n",
       "4  Barking and Dagenham 001A  Anti-social behaviour   \n",
       "\n",
       "       Last outcome category  Context  \n",
       "0  Status update unavailable      NaN  \n",
       "1                        NaN      NaN  \n",
       "2                        NaN      NaN  \n",
       "3                        NaN      NaN  \n",
       "4                        NaN      NaN  "
      ]
     },
     "execution_count": 3,
     "metadata": {},
     "output_type": "execute_result"
    }
   ],
   "source": [
    "# Here we can see the head of the dataset, in the first input in this notebook, we set pd.set_option('display.max_columns', 200).\n",
    "# The purpose of this is so we can see every column in the dataset, as pandas by default will cut half of this away.\n",
    "df.head()"
   ]
  },
  {
   "cell_type": "code",
   "execution_count": 4,
   "id": "6f921781",
   "metadata": {
    "execution": {
     "iopub.execute_input": "2024-06-08T19:52:38.414943Z",
     "iopub.status.busy": "2024-06-08T19:52:38.413894Z",
     "iopub.status.idle": "2024-06-08T19:52:38.421891Z",
     "shell.execute_reply": "2024-06-08T19:52:38.420747Z"
    },
    "papermill": {
     "duration": 0.021252,
     "end_time": "2024-06-08T19:52:38.424275",
     "exception": false,
     "start_time": "2024-06-08T19:52:38.403023",
     "status": "completed"
    },
    "tags": []
   },
   "outputs": [
    {
     "data": {
      "text/plain": [
       "Index(['Crime ID', 'Month', 'Reported by', 'Falls within', 'Longitude',\n",
       "       'Latitude', 'Location', 'LSOA code', 'LSOA name', 'Crime type',\n",
       "       'Last outcome category', 'Context'],\n",
       "      dtype='object')"
      ]
     },
     "execution_count": 4,
     "metadata": {},
     "output_type": "execute_result"
    }
   ],
   "source": [
    "# Sometimes its easier to run .columns on the dataframe, as this will show all the columns as a list, \n",
    "# which may be easier to read instead of being blinded by data like above.\n",
    "df.columns"
   ]
  },
  {
   "cell_type": "code",
   "execution_count": 5,
   "id": "ede12260",
   "metadata": {
    "execution": {
     "iopub.execute_input": "2024-06-08T19:52:38.446096Z",
     "iopub.status.busy": "2024-06-08T19:52:38.445638Z",
     "iopub.status.idle": "2024-06-08T19:52:38.453446Z",
     "shell.execute_reply": "2024-06-08T19:52:38.452150Z"
    },
    "papermill": {
     "duration": 0.022479,
     "end_time": "2024-06-08T19:52:38.456593",
     "exception": false,
     "start_time": "2024-06-08T19:52:38.434114",
     "status": "completed"
    },
    "tags": []
   },
   "outputs": [
    {
     "data": {
      "text/plain": [
       "(90979, 12)"
      ]
     },
     "execution_count": 5,
     "metadata": {},
     "output_type": "execute_result"
    }
   ],
   "source": [
    "# This shape will tell us how many rows & columns the dataset has\n",
    "df.shape"
   ]
  },
  {
   "cell_type": "code",
   "execution_count": 6,
   "id": "13f7a03c",
   "metadata": {
    "execution": {
     "iopub.execute_input": "2024-06-08T19:52:38.479689Z",
     "iopub.status.busy": "2024-06-08T19:52:38.478572Z",
     "iopub.status.idle": "2024-06-08T19:52:38.488084Z",
     "shell.execute_reply": "2024-06-08T19:52:38.486896Z"
    },
    "papermill": {
     "duration": 0.023466,
     "end_time": "2024-06-08T19:52:38.490478",
     "exception": false,
     "start_time": "2024-06-08T19:52:38.467012",
     "status": "completed"
    },
    "tags": []
   },
   "outputs": [
    {
     "data": {
      "text/plain": [
       "Crime ID                  object\n",
       "Month                     object\n",
       "Reported by               object\n",
       "Falls within              object\n",
       "Longitude                float64\n",
       "Latitude                 float64\n",
       "Location                  object\n",
       "LSOA code                 object\n",
       "LSOA name                 object\n",
       "Crime type                object\n",
       "Last outcome category     object\n",
       "Context                  float64\n",
       "dtype: object"
      ]
     },
     "execution_count": 6,
     "metadata": {},
     "output_type": "execute_result"
    }
   ],
   "source": [
    "# In every pandas dataframe, every column is a series, and every pandas series has a type\n",
    "# objects are a string type columns, some are float values\n",
    "df.dtypes"
   ]
  },
  {
   "cell_type": "code",
   "execution_count": 7,
   "id": "ca96901d",
   "metadata": {
    "execution": {
     "iopub.execute_input": "2024-06-08T19:52:38.512595Z",
     "iopub.status.busy": "2024-06-08T19:52:38.512136Z",
     "iopub.status.idle": "2024-06-08T19:52:38.548672Z",
     "shell.execute_reply": "2024-06-08T19:52:38.547369Z"
    },
    "papermill": {
     "duration": 0.05076,
     "end_time": "2024-06-08T19:52:38.551236",
     "exception": false,
     "start_time": "2024-06-08T19:52:38.500476",
     "status": "completed"
    },
    "tags": []
   },
   "outputs": [
    {
     "data": {
      "text/html": [
       "<div>\n",
       "<style scoped>\n",
       "    .dataframe tbody tr th:only-of-type {\n",
       "        vertical-align: middle;\n",
       "    }\n",
       "\n",
       "    .dataframe tbody tr th {\n",
       "        vertical-align: top;\n",
       "    }\n",
       "\n",
       "    .dataframe thead th {\n",
       "        text-align: right;\n",
       "    }\n",
       "</style>\n",
       "<table border=\"1\" class=\"dataframe\">\n",
       "  <thead>\n",
       "    <tr style=\"text-align: right;\">\n",
       "      <th></th>\n",
       "      <th>Longitude</th>\n",
       "      <th>Latitude</th>\n",
       "      <th>Context</th>\n",
       "    </tr>\n",
       "  </thead>\n",
       "  <tbody>\n",
       "    <tr>\n",
       "      <th>count</th>\n",
       "      <td>90435.000000</td>\n",
       "      <td>90435.000000</td>\n",
       "      <td>0.0</td>\n",
       "    </tr>\n",
       "    <tr>\n",
       "      <th>mean</th>\n",
       "      <td>-0.121390</td>\n",
       "      <td>51.511320</td>\n",
       "      <td>NaN</td>\n",
       "    </tr>\n",
       "    <tr>\n",
       "      <th>std</th>\n",
       "      <td>0.155808</td>\n",
       "      <td>0.081744</td>\n",
       "      <td>NaN</td>\n",
       "    </tr>\n",
       "    <tr>\n",
       "      <th>min</th>\n",
       "      <td>-5.545210</td>\n",
       "      <td>50.100792</td>\n",
       "      <td>NaN</td>\n",
       "    </tr>\n",
       "    <tr>\n",
       "      <th>25%</th>\n",
       "      <td>-0.200683</td>\n",
       "      <td>51.470369</td>\n",
       "      <td>NaN</td>\n",
       "    </tr>\n",
       "    <tr>\n",
       "      <th>50%</th>\n",
       "      <td>-0.117239</td>\n",
       "      <td>51.514983</td>\n",
       "      <td>NaN</td>\n",
       "    </tr>\n",
       "    <tr>\n",
       "      <th>75%</th>\n",
       "      <td>-0.033239</td>\n",
       "      <td>51.553906</td>\n",
       "      <td>NaN</td>\n",
       "    </tr>\n",
       "    <tr>\n",
       "      <th>max</th>\n",
       "      <td>1.733734</td>\n",
       "      <td>55.020499</td>\n",
       "      <td>NaN</td>\n",
       "    </tr>\n",
       "  </tbody>\n",
       "</table>\n",
       "</div>"
      ],
      "text/plain": [
       "          Longitude      Latitude  Context\n",
       "count  90435.000000  90435.000000      0.0\n",
       "mean      -0.121390     51.511320      NaN\n",
       "std        0.155808      0.081744      NaN\n",
       "min       -5.545210     50.100792      NaN\n",
       "25%       -0.200683     51.470369      NaN\n",
       "50%       -0.117239     51.514983      NaN\n",
       "75%       -0.033239     51.553906      NaN\n",
       "max        1.733734     55.020499      NaN"
      ]
     },
     "execution_count": 7,
     "metadata": {},
     "output_type": "execute_result"
    }
   ],
   "source": [
    "# Show some information & statistics about the numeric data in the dataset\n",
    "df.describe()"
   ]
  },
  {
   "cell_type": "markdown",
   "id": "854ab075",
   "metadata": {
    "papermill": {
     "duration": 0.009946,
     "end_time": "2024-06-08T19:52:38.571414",
     "exception": false,
     "start_time": "2024-06-08T19:52:38.561468",
     "status": "completed"
    },
    "tags": []
   },
   "source": [
    "# Step 2: Data Preperation & Data Cleaning\n",
    "- Dropping irrelevant columns & rows\n",
    "- Identifying duplicated columns\n",
    "- Renaming columns \n",
    "- Feature Creation"
   ]
  },
  {
   "cell_type": "code",
   "execution_count": 8,
   "id": "705a41b9",
   "metadata": {
    "execution": {
     "iopub.execute_input": "2024-06-08T19:52:38.594837Z",
     "iopub.status.busy": "2024-06-08T19:52:38.593934Z",
     "iopub.status.idle": "2024-06-08T19:52:38.621480Z",
     "shell.execute_reply": "2024-06-08T19:52:38.620103Z"
    },
    "papermill": {
     "duration": 0.042213,
     "end_time": "2024-06-08T19:52:38.624360",
     "exception": false,
     "start_time": "2024-06-08T19:52:38.582147",
     "status": "completed"
    },
    "tags": []
   },
   "outputs": [],
   "source": [
    "# creating a subset of the df, as from a quick look, crime ID, long/lat & LSOA code won't mean much in this analysis\n",
    "# we are just commenting out alot of the data we dont need & creating a subset of data\n",
    "\n",
    "df = df[[#'Crime ID', \n",
    "        'Month', 'Reported by', 'Falls within', \n",
    "        #'Longitude','Latitude', \n",
    "        'Location', \n",
    "        #'LSOA code', \n",
    "        'LSOA name', 'Crime type',\n",
    "       'Last outcome category', 'Context']].copy()"
   ]
  },
  {
   "cell_type": "code",
   "execution_count": 9,
   "id": "7405cc75",
   "metadata": {
    "execution": {
     "iopub.execute_input": "2024-06-08T19:52:38.648040Z",
     "iopub.status.busy": "2024-06-08T19:52:38.646619Z",
     "iopub.status.idle": "2024-06-08T19:52:38.661929Z",
     "shell.execute_reply": "2024-06-08T19:52:38.660762Z"
    },
    "papermill": {
     "duration": 0.029694,
     "end_time": "2024-06-08T19:52:38.664515",
     "exception": false,
     "start_time": "2024-06-08T19:52:38.634821",
     "status": "completed"
    },
    "tags": []
   },
   "outputs": [
    {
     "data": {
      "text/html": [
       "<div>\n",
       "<style scoped>\n",
       "    .dataframe tbody tr th:only-of-type {\n",
       "        vertical-align: middle;\n",
       "    }\n",
       "\n",
       "    .dataframe tbody tr th {\n",
       "        vertical-align: top;\n",
       "    }\n",
       "\n",
       "    .dataframe thead th {\n",
       "        text-align: right;\n",
       "    }\n",
       "</style>\n",
       "<table border=\"1\" class=\"dataframe\">\n",
       "  <thead>\n",
       "    <tr style=\"text-align: right;\">\n",
       "      <th></th>\n",
       "      <th>Month</th>\n",
       "      <th>Reported by</th>\n",
       "      <th>Falls within</th>\n",
       "      <th>Location</th>\n",
       "      <th>LSOA name</th>\n",
       "      <th>Crime type</th>\n",
       "      <th>Last outcome category</th>\n",
       "      <th>Context</th>\n",
       "    </tr>\n",
       "  </thead>\n",
       "  <tbody>\n",
       "    <tr>\n",
       "      <th>0</th>\n",
       "      <td>2020-01</td>\n",
       "      <td>Metropolitan Police Service</td>\n",
       "      <td>Metropolitan Police Service</td>\n",
       "      <td>On or near Highdown Drive</td>\n",
       "      <td>Arun 009F</td>\n",
       "      <td>Other theft</td>\n",
       "      <td>Status update unavailable</td>\n",
       "      <td>NaN</td>\n",
       "    </tr>\n",
       "    <tr>\n",
       "      <th>1</th>\n",
       "      <td>2020-01</td>\n",
       "      <td>Metropolitan Police Service</td>\n",
       "      <td>Metropolitan Police Service</td>\n",
       "      <td>On or near Police Station</td>\n",
       "      <td>Barking and Dagenham 001A</td>\n",
       "      <td>Anti-social behaviour</td>\n",
       "      <td>NaN</td>\n",
       "      <td>NaN</td>\n",
       "    </tr>\n",
       "    <tr>\n",
       "      <th>2</th>\n",
       "      <td>2020-01</td>\n",
       "      <td>Metropolitan Police Service</td>\n",
       "      <td>Metropolitan Police Service</td>\n",
       "      <td>On or near Beansland Grove</td>\n",
       "      <td>Barking and Dagenham 001A</td>\n",
       "      <td>Anti-social behaviour</td>\n",
       "      <td>NaN</td>\n",
       "      <td>NaN</td>\n",
       "    </tr>\n",
       "    <tr>\n",
       "      <th>3</th>\n",
       "      <td>2020-01</td>\n",
       "      <td>Metropolitan Police Service</td>\n",
       "      <td>Metropolitan Police Service</td>\n",
       "      <td>On or near Police Station</td>\n",
       "      <td>Barking and Dagenham 001A</td>\n",
       "      <td>Anti-social behaviour</td>\n",
       "      <td>NaN</td>\n",
       "      <td>NaN</td>\n",
       "    </tr>\n",
       "    <tr>\n",
       "      <th>4</th>\n",
       "      <td>2020-01</td>\n",
       "      <td>Metropolitan Police Service</td>\n",
       "      <td>Metropolitan Police Service</td>\n",
       "      <td>On or near Furze Farm Close</td>\n",
       "      <td>Barking and Dagenham 001A</td>\n",
       "      <td>Anti-social behaviour</td>\n",
       "      <td>NaN</td>\n",
       "      <td>NaN</td>\n",
       "    </tr>\n",
       "  </tbody>\n",
       "</table>\n",
       "</div>"
      ],
      "text/plain": [
       "     Month                  Reported by                 Falls within  \\\n",
       "0  2020-01  Metropolitan Police Service  Metropolitan Police Service   \n",
       "1  2020-01  Metropolitan Police Service  Metropolitan Police Service   \n",
       "2  2020-01  Metropolitan Police Service  Metropolitan Police Service   \n",
       "3  2020-01  Metropolitan Police Service  Metropolitan Police Service   \n",
       "4  2020-01  Metropolitan Police Service  Metropolitan Police Service   \n",
       "\n",
       "                      Location                  LSOA name  \\\n",
       "0    On or near Highdown Drive                  Arun 009F   \n",
       "1    On or near Police Station  Barking and Dagenham 001A   \n",
       "2   On or near Beansland Grove  Barking and Dagenham 001A   \n",
       "3    On or near Police Station  Barking and Dagenham 001A   \n",
       "4  On or near Furze Farm Close  Barking and Dagenham 001A   \n",
       "\n",
       "              Crime type      Last outcome category  Context  \n",
       "0            Other theft  Status update unavailable      NaN  \n",
       "1  Anti-social behaviour                        NaN      NaN  \n",
       "2  Anti-social behaviour                        NaN      NaN  \n",
       "3  Anti-social behaviour                        NaN      NaN  \n",
       "4  Anti-social behaviour                        NaN      NaN  "
      ]
     },
     "execution_count": 9,
     "metadata": {},
     "output_type": "execute_result"
    }
   ],
   "source": [
    "df.head()"
   ]
  },
  {
   "cell_type": "code",
   "execution_count": 10,
   "id": "6831114c",
   "metadata": {
    "execution": {
     "iopub.execute_input": "2024-06-08T19:52:38.687427Z",
     "iopub.status.busy": "2024-06-08T19:52:38.687022Z",
     "iopub.status.idle": "2024-06-08T19:52:38.695741Z",
     "shell.execute_reply": "2024-06-08T19:52:38.694448Z"
    },
    "papermill": {
     "duration": 0.023381,
     "end_time": "2024-06-08T19:52:38.698570",
     "exception": false,
     "start_time": "2024-06-08T19:52:38.675189",
     "status": "completed"
    },
    "tags": []
   },
   "outputs": [
    {
     "data": {
      "text/plain": [
       "Month                     object\n",
       "Reported by               object\n",
       "Falls within              object\n",
       "Location                  object\n",
       "LSOA name                 object\n",
       "Crime type                object\n",
       "Last outcome category     object\n",
       "Context                  float64\n",
       "dtype: object"
      ]
     },
     "execution_count": 10,
     "metadata": {},
     "output_type": "execute_result"
    }
   ],
   "source": [
    "# Looking at month, it will be more useful to convert this to a date/time format\n",
    "df.dtypes"
   ]
  },
  {
   "cell_type": "code",
   "execution_count": 11,
   "id": "83c82df6",
   "metadata": {
    "execution": {
     "iopub.execute_input": "2024-06-08T19:52:38.721452Z",
     "iopub.status.busy": "2024-06-08T19:52:38.721006Z",
     "iopub.status.idle": "2024-06-08T19:52:38.749144Z",
     "shell.execute_reply": "2024-06-08T19:52:38.748016Z"
    },
    "papermill": {
     "duration": 0.04321,
     "end_time": "2024-06-08T19:52:38.752134",
     "exception": false,
     "start_time": "2024-06-08T19:52:38.708924",
     "status": "completed"
    },
    "tags": []
   },
   "outputs": [
    {
     "data": {
      "text/plain": [
       "Month                    datetime64[ns]\n",
       "Reported by                      object\n",
       "Falls within                     object\n",
       "Location                         object\n",
       "LSOA name                        object\n",
       "Crime type                       object\n",
       "Last outcome category            object\n",
       "Context                         float64\n",
       "dtype: object"
      ]
     },
     "execution_count": 11,
     "metadata": {},
     "output_type": "execute_result"
    }
   ],
   "source": [
    "# Convert the dtypes for month from an object to datetime\n",
    "df['Month'] = pd.to_datetime(df['Month'])\n",
    "df.dtypes"
   ]
  },
  {
   "cell_type": "code",
   "execution_count": 12,
   "id": "52af1f33",
   "metadata": {
    "execution": {
     "iopub.execute_input": "2024-06-08T19:52:38.776224Z",
     "iopub.status.busy": "2024-06-08T19:52:38.775757Z",
     "iopub.status.idle": "2024-06-08T19:52:38.788166Z",
     "shell.execute_reply": "2024-06-08T19:52:38.786886Z"
    },
    "papermill": {
     "duration": 0.027951,
     "end_time": "2024-06-08T19:52:38.791317",
     "exception": false,
     "start_time": "2024-06-08T19:52:38.763366",
     "status": "completed"
    },
    "tags": []
   },
   "outputs": [],
   "source": [
    "# Tidy up the column names\n",
    "df = df.rename(columns = {'Month': 'Date',\n",
    "                    'Reported by': 'Reporting_Police_Force',\n",
    "                    'Falls within': 'Police_Jurisdiction',\n",
    "                    'LSOA name': 'LSOA_Name',\n",
    "                     'Crime type': 'Crime_Type',\n",
    "                    'Last outcome category': 'Last_Outcome_Category',\n",
    "                    })"
   ]
  },
  {
   "cell_type": "code",
   "execution_count": 13,
   "id": "dfa0bba2",
   "metadata": {
    "execution": {
     "iopub.execute_input": "2024-06-08T19:52:38.815042Z",
     "iopub.status.busy": "2024-06-08T19:52:38.814566Z",
     "iopub.status.idle": "2024-06-08T19:52:38.849027Z",
     "shell.execute_reply": "2024-06-08T19:52:38.847735Z"
    },
    "papermill": {
     "duration": 0.049807,
     "end_time": "2024-06-08T19:52:38.852032",
     "exception": false,
     "start_time": "2024-06-08T19:52:38.802225",
     "status": "completed"
    },
    "tags": []
   },
   "outputs": [],
   "source": [
    "# Removing the area code off the name, just to clean this column up a little bit more\n",
    "df['LSOA_Name'] = df['LSOA_Name'].str[:-5]"
   ]
  },
  {
   "cell_type": "code",
   "execution_count": 14,
   "id": "f8d012ac",
   "metadata": {
    "execution": {
     "iopub.execute_input": "2024-06-08T19:52:38.876107Z",
     "iopub.status.busy": "2024-06-08T19:52:38.874995Z",
     "iopub.status.idle": "2024-06-08T19:52:38.912881Z",
     "shell.execute_reply": "2024-06-08T19:52:38.911414Z"
    },
    "papermill": {
     "duration": 0.052881,
     "end_time": "2024-06-08T19:52:38.915492",
     "exception": false,
     "start_time": "2024-06-08T19:52:38.862611",
     "status": "completed"
    },
    "tags": []
   },
   "outputs": [
    {
     "data": {
      "text/plain": [
       "Date                          0\n",
       "Reporting_Police_Force        0\n",
       "Police_Jurisdiction           0\n",
       "Location                      0\n",
       "LSOA_Name                   544\n",
       "Crime_Type                    0\n",
       "Last_Outcome_Category     17548\n",
       "Context                   90979\n",
       "dtype: int64"
      ]
     },
     "execution_count": 14,
     "metadata": {},
     "output_type": "execute_result"
    }
   ],
   "source": [
    "# 90979, 12 is the shape of the dataframe, we have 90979 in context, so its useless so we can drop this\n",
    "df.isna().sum()"
   ]
  },
  {
   "cell_type": "code",
   "execution_count": 15,
   "id": "f00e3e81",
   "metadata": {
    "execution": {
     "iopub.execute_input": "2024-06-08T19:52:38.938785Z",
     "iopub.status.busy": "2024-06-08T19:52:38.938312Z",
     "iopub.status.idle": "2024-06-08T19:52:38.956617Z",
     "shell.execute_reply": "2024-06-08T19:52:38.955361Z"
    },
    "papermill": {
     "duration": 0.033791,
     "end_time": "2024-06-08T19:52:38.959876",
     "exception": false,
     "start_time": "2024-06-08T19:52:38.926085",
     "status": "completed"
    },
    "tags": []
   },
   "outputs": [],
   "source": [
    "# Dropping columns which have too much missing data\n",
    "df = df.drop(['Context'], axis=1)"
   ]
  },
  {
   "cell_type": "code",
   "execution_count": 16,
   "id": "4206d91e",
   "metadata": {
    "execution": {
     "iopub.execute_input": "2024-06-08T19:52:38.984366Z",
     "iopub.status.busy": "2024-06-08T19:52:38.983920Z",
     "iopub.status.idle": "2024-06-08T19:52:38.998880Z",
     "shell.execute_reply": "2024-06-08T19:52:38.997450Z"
    },
    "papermill": {
     "duration": 0.030685,
     "end_time": "2024-06-08T19:52:39.001578",
     "exception": false,
     "start_time": "2024-06-08T19:52:38.970893",
     "status": "completed"
    },
    "tags": []
   },
   "outputs": [
    {
     "data": {
      "text/html": [
       "<div>\n",
       "<style scoped>\n",
       "    .dataframe tbody tr th:only-of-type {\n",
       "        vertical-align: middle;\n",
       "    }\n",
       "\n",
       "    .dataframe tbody tr th {\n",
       "        vertical-align: top;\n",
       "    }\n",
       "\n",
       "    .dataframe thead th {\n",
       "        text-align: right;\n",
       "    }\n",
       "</style>\n",
       "<table border=\"1\" class=\"dataframe\">\n",
       "  <thead>\n",
       "    <tr style=\"text-align: right;\">\n",
       "      <th></th>\n",
       "      <th>Date</th>\n",
       "      <th>Reporting_Police_Force</th>\n",
       "      <th>Police_Jurisdiction</th>\n",
       "      <th>Location</th>\n",
       "      <th>LSOA_Name</th>\n",
       "      <th>Crime_Type</th>\n",
       "      <th>Last_Outcome_Category</th>\n",
       "    </tr>\n",
       "  </thead>\n",
       "  <tbody>\n",
       "    <tr>\n",
       "      <th>0</th>\n",
       "      <td>2020-01-01</td>\n",
       "      <td>Metropolitan Police Service</td>\n",
       "      <td>Metropolitan Police Service</td>\n",
       "      <td>On or near Highdown Drive</td>\n",
       "      <td>Arun</td>\n",
       "      <td>Other theft</td>\n",
       "      <td>Status update unavailable</td>\n",
       "    </tr>\n",
       "    <tr>\n",
       "      <th>1</th>\n",
       "      <td>2020-01-01</td>\n",
       "      <td>Metropolitan Police Service</td>\n",
       "      <td>Metropolitan Police Service</td>\n",
       "      <td>On or near Police Station</td>\n",
       "      <td>Barking and Dagenham</td>\n",
       "      <td>Anti-social behaviour</td>\n",
       "      <td>NaN</td>\n",
       "    </tr>\n",
       "    <tr>\n",
       "      <th>2</th>\n",
       "      <td>2020-01-01</td>\n",
       "      <td>Metropolitan Police Service</td>\n",
       "      <td>Metropolitan Police Service</td>\n",
       "      <td>On or near Beansland Grove</td>\n",
       "      <td>Barking and Dagenham</td>\n",
       "      <td>Anti-social behaviour</td>\n",
       "      <td>NaN</td>\n",
       "    </tr>\n",
       "    <tr>\n",
       "      <th>3</th>\n",
       "      <td>2020-01-01</td>\n",
       "      <td>Metropolitan Police Service</td>\n",
       "      <td>Metropolitan Police Service</td>\n",
       "      <td>On or near Police Station</td>\n",
       "      <td>Barking and Dagenham</td>\n",
       "      <td>Anti-social behaviour</td>\n",
       "      <td>NaN</td>\n",
       "    </tr>\n",
       "    <tr>\n",
       "      <th>4</th>\n",
       "      <td>2020-01-01</td>\n",
       "      <td>Metropolitan Police Service</td>\n",
       "      <td>Metropolitan Police Service</td>\n",
       "      <td>On or near Furze Farm Close</td>\n",
       "      <td>Barking and Dagenham</td>\n",
       "      <td>Anti-social behaviour</td>\n",
       "      <td>NaN</td>\n",
       "    </tr>\n",
       "  </tbody>\n",
       "</table>\n",
       "</div>"
      ],
      "text/plain": [
       "        Date       Reporting_Police_Force          Police_Jurisdiction  \\\n",
       "0 2020-01-01  Metropolitan Police Service  Metropolitan Police Service   \n",
       "1 2020-01-01  Metropolitan Police Service  Metropolitan Police Service   \n",
       "2 2020-01-01  Metropolitan Police Service  Metropolitan Police Service   \n",
       "3 2020-01-01  Metropolitan Police Service  Metropolitan Police Service   \n",
       "4 2020-01-01  Metropolitan Police Service  Metropolitan Police Service   \n",
       "\n",
       "                      Location             LSOA_Name             Crime_Type  \\\n",
       "0    On or near Highdown Drive                  Arun            Other theft   \n",
       "1    On or near Police Station  Barking and Dagenham  Anti-social behaviour   \n",
       "2   On or near Beansland Grove  Barking and Dagenham  Anti-social behaviour   \n",
       "3    On or near Police Station  Barking and Dagenham  Anti-social behaviour   \n",
       "4  On or near Furze Farm Close  Barking and Dagenham  Anti-social behaviour   \n",
       "\n",
       "       Last_Outcome_Category  \n",
       "0  Status update unavailable  \n",
       "1                        NaN  \n",
       "2                        NaN  \n",
       "3                        NaN  \n",
       "4                        NaN  "
      ]
     },
     "execution_count": 16,
     "metadata": {},
     "output_type": "execute_result"
    }
   ],
   "source": [
    "df.head()"
   ]
  },
  {
   "cell_type": "code",
   "execution_count": 17,
   "id": "185e3253",
   "metadata": {
    "execution": {
     "iopub.execute_input": "2024-06-08T19:52:39.027049Z",
     "iopub.status.busy": "2024-06-08T19:52:39.026082Z",
     "iopub.status.idle": "2024-06-08T19:52:39.100503Z",
     "shell.execute_reply": "2024-06-08T19:52:39.098990Z"
    },
    "papermill": {
     "duration": 0.09146,
     "end_time": "2024-06-08T19:52:39.104326",
     "exception": false,
     "start_time": "2024-06-08T19:52:39.012866",
     "status": "completed"
    },
    "tags": []
   },
   "outputs": [
    {
     "data": {
      "text/plain": [
       "28923"
      ]
     },
     "execution_count": 17,
     "metadata": {},
     "output_type": "execute_result"
    }
   ],
   "source": [
    "# We have quite a lot of duplications, however due to the nature of this data, its not too surprising\n",
    "df.duplicated().sum()"
   ]
  },
  {
   "cell_type": "code",
   "execution_count": 18,
   "id": "a79f7067",
   "metadata": {
    "execution": {
     "iopub.execute_input": "2024-06-08T19:52:39.129765Z",
     "iopub.status.busy": "2024-06-08T19:52:39.129332Z",
     "iopub.status.idle": "2024-06-08T19:52:39.211272Z",
     "shell.execute_reply": "2024-06-08T19:52:39.209810Z"
    },
    "papermill": {
     "duration": 0.097451,
     "end_time": "2024-06-08T19:52:39.213906",
     "exception": false,
     "start_time": "2024-06-08T19:52:39.116455",
     "status": "completed"
    },
    "tags": []
   },
   "outputs": [
    {
     "data": {
      "text/html": [
       "<div>\n",
       "<style scoped>\n",
       "    .dataframe tbody tr th:only-of-type {\n",
       "        vertical-align: middle;\n",
       "    }\n",
       "\n",
       "    .dataframe tbody tr th {\n",
       "        vertical-align: top;\n",
       "    }\n",
       "\n",
       "    .dataframe thead th {\n",
       "        text-align: right;\n",
       "    }\n",
       "</style>\n",
       "<table border=\"1\" class=\"dataframe\">\n",
       "  <thead>\n",
       "    <tr style=\"text-align: right;\">\n",
       "      <th></th>\n",
       "      <th>Date</th>\n",
       "      <th>Reporting_Police_Force</th>\n",
       "      <th>Police_Jurisdiction</th>\n",
       "      <th>Location</th>\n",
       "      <th>LSOA_Name</th>\n",
       "      <th>Crime_Type</th>\n",
       "      <th>Last_Outcome_Category</th>\n",
       "    </tr>\n",
       "  </thead>\n",
       "  <tbody>\n",
       "    <tr>\n",
       "      <th>3</th>\n",
       "      <td>2020-01-01</td>\n",
       "      <td>Metropolitan Police Service</td>\n",
       "      <td>Metropolitan Police Service</td>\n",
       "      <td>On or near Police Station</td>\n",
       "      <td>Barking and Dagenham</td>\n",
       "      <td>Anti-social behaviour</td>\n",
       "      <td>NaN</td>\n",
       "    </tr>\n",
       "    <tr>\n",
       "      <th>5</th>\n",
       "      <td>2020-01-01</td>\n",
       "      <td>Metropolitan Police Service</td>\n",
       "      <td>Metropolitan Police Service</td>\n",
       "      <td>On or near Police Station</td>\n",
       "      <td>Barking and Dagenham</td>\n",
       "      <td>Anti-social behaviour</td>\n",
       "      <td>NaN</td>\n",
       "    </tr>\n",
       "    <tr>\n",
       "      <th>6</th>\n",
       "      <td>2020-01-01</td>\n",
       "      <td>Metropolitan Police Service</td>\n",
       "      <td>Metropolitan Police Service</td>\n",
       "      <td>On or near Police Station</td>\n",
       "      <td>Barking and Dagenham</td>\n",
       "      <td>Anti-social behaviour</td>\n",
       "      <td>NaN</td>\n",
       "    </tr>\n",
       "    <tr>\n",
       "      <th>8</th>\n",
       "      <td>2020-01-01</td>\n",
       "      <td>Metropolitan Police Service</td>\n",
       "      <td>Metropolitan Police Service</td>\n",
       "      <td>On or near Police Station</td>\n",
       "      <td>Barking and Dagenham</td>\n",
       "      <td>Anti-social behaviour</td>\n",
       "      <td>NaN</td>\n",
       "    </tr>\n",
       "    <tr>\n",
       "      <th>12</th>\n",
       "      <td>2020-01-01</td>\n",
       "      <td>Metropolitan Police Service</td>\n",
       "      <td>Metropolitan Police Service</td>\n",
       "      <td>On or near Gibbfield Close</td>\n",
       "      <td>Barking and Dagenham</td>\n",
       "      <td>Criminal damage and arson</td>\n",
       "      <td>Awaiting court outcome</td>\n",
       "    </tr>\n",
       "    <tr>\n",
       "      <th>...</th>\n",
       "      <td>...</td>\n",
       "      <td>...</td>\n",
       "      <td>...</td>\n",
       "      <td>...</td>\n",
       "      <td>...</td>\n",
       "      <td>...</td>\n",
       "      <td>...</td>\n",
       "    </tr>\n",
       "    <tr>\n",
       "      <th>90971</th>\n",
       "      <td>2020-01-01</td>\n",
       "      <td>Metropolitan Police Service</td>\n",
       "      <td>Metropolitan Police Service</td>\n",
       "      <td>No Location</td>\n",
       "      <td>NaN</td>\n",
       "      <td>Violence and sexual offences</td>\n",
       "      <td>Investigation complete; no suspect identified</td>\n",
       "    </tr>\n",
       "    <tr>\n",
       "      <th>90972</th>\n",
       "      <td>2020-01-01</td>\n",
       "      <td>Metropolitan Police Service</td>\n",
       "      <td>Metropolitan Police Service</td>\n",
       "      <td>No Location</td>\n",
       "      <td>NaN</td>\n",
       "      <td>Violence and sexual offences</td>\n",
       "      <td>Investigation complete; no suspect identified</td>\n",
       "    </tr>\n",
       "    <tr>\n",
       "      <th>90973</th>\n",
       "      <td>2020-01-01</td>\n",
       "      <td>Metropolitan Police Service</td>\n",
       "      <td>Metropolitan Police Service</td>\n",
       "      <td>No Location</td>\n",
       "      <td>NaN</td>\n",
       "      <td>Violence and sexual offences</td>\n",
       "      <td>Status update unavailable</td>\n",
       "    </tr>\n",
       "    <tr>\n",
       "      <th>90974</th>\n",
       "      <td>2020-01-01</td>\n",
       "      <td>Metropolitan Police Service</td>\n",
       "      <td>Metropolitan Police Service</td>\n",
       "      <td>No Location</td>\n",
       "      <td>NaN</td>\n",
       "      <td>Violence and sexual offences</td>\n",
       "      <td>Investigation complete; no suspect identified</td>\n",
       "    </tr>\n",
       "    <tr>\n",
       "      <th>90976</th>\n",
       "      <td>2020-01-01</td>\n",
       "      <td>Metropolitan Police Service</td>\n",
       "      <td>Metropolitan Police Service</td>\n",
       "      <td>No Location</td>\n",
       "      <td>NaN</td>\n",
       "      <td>Other crime</td>\n",
       "      <td>Investigation complete; no suspect identified</td>\n",
       "    </tr>\n",
       "  </tbody>\n",
       "</table>\n",
       "<p>28923 rows × 7 columns</p>\n",
       "</div>"
      ],
      "text/plain": [
       "            Date       Reporting_Police_Force          Police_Jurisdiction  \\\n",
       "3     2020-01-01  Metropolitan Police Service  Metropolitan Police Service   \n",
       "5     2020-01-01  Metropolitan Police Service  Metropolitan Police Service   \n",
       "6     2020-01-01  Metropolitan Police Service  Metropolitan Police Service   \n",
       "8     2020-01-01  Metropolitan Police Service  Metropolitan Police Service   \n",
       "12    2020-01-01  Metropolitan Police Service  Metropolitan Police Service   \n",
       "...          ...                          ...                          ...   \n",
       "90971 2020-01-01  Metropolitan Police Service  Metropolitan Police Service   \n",
       "90972 2020-01-01  Metropolitan Police Service  Metropolitan Police Service   \n",
       "90973 2020-01-01  Metropolitan Police Service  Metropolitan Police Service   \n",
       "90974 2020-01-01  Metropolitan Police Service  Metropolitan Police Service   \n",
       "90976 2020-01-01  Metropolitan Police Service  Metropolitan Police Service   \n",
       "\n",
       "                         Location             LSOA_Name  \\\n",
       "3       On or near Police Station  Barking and Dagenham   \n",
       "5       On or near Police Station  Barking and Dagenham   \n",
       "6       On or near Police Station  Barking and Dagenham   \n",
       "8       On or near Police Station  Barking and Dagenham   \n",
       "12     On or near Gibbfield Close  Barking and Dagenham   \n",
       "...                           ...                   ...   \n",
       "90971                 No Location                   NaN   \n",
       "90972                 No Location                   NaN   \n",
       "90973                 No Location                   NaN   \n",
       "90974                 No Location                   NaN   \n",
       "90976                 No Location                   NaN   \n",
       "\n",
       "                         Crime_Type  \\\n",
       "3             Anti-social behaviour   \n",
       "5             Anti-social behaviour   \n",
       "6             Anti-social behaviour   \n",
       "8             Anti-social behaviour   \n",
       "12        Criminal damage and arson   \n",
       "...                             ...   \n",
       "90971  Violence and sexual offences   \n",
       "90972  Violence and sexual offences   \n",
       "90973  Violence and sexual offences   \n",
       "90974  Violence and sexual offences   \n",
       "90976                   Other crime   \n",
       "\n",
       "                               Last_Outcome_Category  \n",
       "3                                                NaN  \n",
       "5                                                NaN  \n",
       "6                                                NaN  \n",
       "8                                                NaN  \n",
       "12                            Awaiting court outcome  \n",
       "...                                              ...  \n",
       "90971  Investigation complete; no suspect identified  \n",
       "90972  Investigation complete; no suspect identified  \n",
       "90973                      Status update unavailable  \n",
       "90974  Investigation complete; no suspect identified  \n",
       "90976  Investigation complete; no suspect identified  \n",
       "\n",
       "[28923 rows x 7 columns]"
      ]
     },
     "execution_count": 18,
     "metadata": {},
     "output_type": "execute_result"
    }
   ],
   "source": [
    "# running a .loc on the duplications, we can see a snippit of what the duplications look like\n",
    "df.loc[df.duplicated()]"
   ]
  },
  {
   "cell_type": "code",
   "execution_count": 19,
   "id": "c93c1e89",
   "metadata": {
    "execution": {
     "iopub.execute_input": "2024-06-08T19:52:39.240520Z",
     "iopub.status.busy": "2024-06-08T19:52:39.239604Z",
     "iopub.status.idle": "2024-06-08T19:52:39.253512Z",
     "shell.execute_reply": "2024-06-08T19:52:39.252480Z"
    },
    "papermill": {
     "duration": 0.029613,
     "end_time": "2024-06-08T19:52:39.255843",
     "exception": false,
     "start_time": "2024-06-08T19:52:39.226230",
     "status": "completed"
    },
    "tags": []
   },
   "outputs": [
    {
     "data": {
      "text/plain": [
       "90978"
      ]
     },
     "execution_count": 19,
     "metadata": {},
     "output_type": "execute_result"
    }
   ],
   "source": [
    "# here we can see both the reporting police force and the jurisdiction is both the met police service,\n",
    "# so we might as well drop one of these.\n",
    "df.duplicated(subset=['Reporting_Police_Force']).sum()\n",
    "df.duplicated(subset=['Police_Jurisdiction']).sum()"
   ]
  },
  {
   "cell_type": "code",
   "execution_count": 20,
   "id": "44f6906b",
   "metadata": {
    "execution": {
     "iopub.execute_input": "2024-06-08T19:52:39.281417Z",
     "iopub.status.busy": "2024-06-08T19:52:39.280975Z",
     "iopub.status.idle": "2024-06-08T19:52:39.293051Z",
     "shell.execute_reply": "2024-06-08T19:52:39.291862Z"
    },
    "papermill": {
     "duration": 0.028226,
     "end_time": "2024-06-08T19:52:39.295760",
     "exception": false,
     "start_time": "2024-06-08T19:52:39.267534",
     "status": "completed"
    },
    "tags": []
   },
   "outputs": [],
   "source": [
    "# Dropping the jurisdiction as we know its the same as reported.\n",
    "df = df.drop(['Police_Jurisdiction'], axis=1)"
   ]
  },
  {
   "cell_type": "code",
   "execution_count": 21,
   "id": "ebc7e63a",
   "metadata": {
    "execution": {
     "iopub.execute_input": "2024-06-08T19:52:39.321612Z",
     "iopub.status.busy": "2024-06-08T19:52:39.320914Z",
     "iopub.status.idle": "2024-06-08T19:52:39.333633Z",
     "shell.execute_reply": "2024-06-08T19:52:39.332535Z"
    },
    "papermill": {
     "duration": 0.028465,
     "end_time": "2024-06-08T19:52:39.336078",
     "exception": false,
     "start_time": "2024-06-08T19:52:39.307613",
     "status": "completed"
    },
    "tags": []
   },
   "outputs": [
    {
     "data": {
      "text/plain": [
       "Date\n",
       "2020-01-01    90979\n",
       "Name: count, dtype: int64"
      ]
     },
     "execution_count": 21,
     "metadata": {},
     "output_type": "execute_result"
    }
   ],
   "source": [
    "# Checking that the date is Jan 2020 for all reported crime, which it is\n",
    "df['Date'].value_counts()"
   ]
  },
  {
   "cell_type": "markdown",
   "id": "30c7c915",
   "metadata": {
    "papermill": {
     "duration": 0.011552,
     "end_time": "2024-06-08T19:52:39.360072",
     "exception": false,
     "start_time": "2024-06-08T19:52:39.348520",
     "status": "completed"
    },
    "tags": []
   },
   "source": [
    "# Step 3: Feature Understanding\n",
    "\n",
    "(Univariate analysis)\n",
    "- Plotting Histograms using matplotlib & ggplot, along with a simple Piechart"
   ]
  },
  {
   "cell_type": "code",
   "execution_count": 22,
   "id": "668fb3e4",
   "metadata": {
    "execution": {
     "iopub.execute_input": "2024-06-08T19:52:39.386212Z",
     "iopub.status.busy": "2024-06-08T19:52:39.385746Z",
     "iopub.status.idle": "2024-06-08T19:52:40.011226Z",
     "shell.execute_reply": "2024-06-08T19:52:40.009898Z"
    },
    "papermill": {
     "duration": 0.642149,
     "end_time": "2024-06-08T19:52:40.014026",
     "exception": false,
     "start_time": "2024-06-08T19:52:39.371877",
     "status": "completed"
    },
    "tags": []
   },
   "outputs": [
    {
     "data": {
      "text/plain": [
       "Text(0, 0.5, 'Count')"
      ]
     },
     "execution_count": 22,
     "metadata": {},
     "output_type": "execute_result"
    },
    {
     "data": {
      "image/png": "[encoded data removed]",
      "text/plain": [
       "<Figure size 640x480 with 1 Axes>"
      ]
     },
     "metadata": {},
     "output_type": "display_data"
    }
   ],
   "source": [
    "# Here we can see a simple bar chart visualising the different crimes reported in Jan-2020\n",
    "ax = df['Crime_Type'].value_counts() \\\n",
    ".sort_values(ascending=True) \\\n",
    ".plot(kind='barh', title='Crimes reported in Jan-2020 in London') \\\n",
    "\n",
    "\n",
    "ax.set_xlabel('Crime Catagory')\n",
    "ax.set_ylabel('Count')"
   ]
  },
  {
   "cell_type": "code",
   "execution_count": 23,
   "id": "424a1d3a",
   "metadata": {
    "execution": {
     "iopub.execute_input": "2024-06-08T19:52:40.042077Z",
     "iopub.status.busy": "2024-06-08T19:52:40.041589Z",
     "iopub.status.idle": "2024-06-08T19:52:40.057648Z",
     "shell.execute_reply": "2024-06-08T19:52:40.056585Z"
    },
    "papermill": {
     "duration": 0.033217,
     "end_time": "2024-06-08T19:52:40.060233",
     "exception": false,
     "start_time": "2024-06-08T19:52:40.027016",
     "status": "completed"
    },
    "tags": []
   },
   "outputs": [
    {
     "data": {
      "text/plain": [
       "Crime_Type\n",
       "Violence and sexual offences    18451\n",
       "Anti-social behaviour           17548\n",
       "Vehicle crime                   11975\n",
       "Other theft                      9497\n",
       "Burglary                         6889\n",
       "Criminal damage and arson        4374\n",
       "Drugs                            4282\n",
       "Theft from the person            4256\n",
       "Public order                     4025\n",
       "Shoplifting                      3853\n",
       "Robbery                          3263\n",
       "Bicycle theft                    1172\n",
       "Other crime                       832\n",
       "Possession of weapons             562\n",
       "Name: count, dtype: int64"
      ]
     },
     "execution_count": 23,
     "metadata": {},
     "output_type": "execute_result"
    }
   ],
   "source": [
    "# Here is a summery of each crime reported in Jan-2020 in London\n",
    "df['Crime_Type'].value_counts()"
   ]
  },
  {
   "cell_type": "code",
   "execution_count": 24,
   "id": "a7261c6a",
   "metadata": {
    "execution": {
     "iopub.execute_input": "2024-06-08T19:52:40.088626Z",
     "iopub.status.busy": "2024-06-08T19:52:40.087846Z",
     "iopub.status.idle": "2024-06-08T19:52:40.095477Z",
     "shell.execute_reply": "2024-06-08T19:52:40.094305Z"
    },
    "papermill": {
     "duration": 0.02492,
     "end_time": "2024-06-08T19:52:40.098287",
     "exception": false,
     "start_time": "2024-06-08T19:52:40.073367",
     "status": "completed"
    },
    "tags": []
   },
   "outputs": [
    {
     "data": {
      "text/plain": [
       "Index(['Date', 'Reporting_Police_Force', 'Location', 'LSOA_Name', 'Crime_Type',\n",
       "       'Last_Outcome_Category'],\n",
       "      dtype='object')"
      ]
     },
     "execution_count": 24,
     "metadata": {},
     "output_type": "execute_result"
    }
   ],
   "source": [
    "df.columns"
   ]
  },
  {
   "cell_type": "code",
   "execution_count": 25,
   "id": "a5b88894",
   "metadata": {
    "execution": {
     "iopub.execute_input": "2024-06-08T19:52:40.129141Z",
     "iopub.status.busy": "2024-06-08T19:52:40.128481Z",
     "iopub.status.idle": "2024-06-08T19:52:40.179981Z",
     "shell.execute_reply": "2024-06-08T19:52:40.178721Z"
    },
    "papermill": {
     "duration": 0.071,
     "end_time": "2024-06-08T19:52:40.182650",
     "exception": false,
     "start_time": "2024-06-08T19:52:40.111650",
     "status": "completed"
    },
    "tags": []
   },
   "outputs": [
    {
     "data": {
      "text/plain": [
       "LSOA_Name\n",
       "Westminster      7226\n",
       "Camden           3920\n",
       "Tower Hamlets    3644\n",
       "Southwark        3590\n",
       "Lambeth          3549\n",
       "                 ... \n",
       "Rochford            1\n",
       "Rotherham           1\n",
       "Rugby               1\n",
       "Sandwell            1\n",
       "Manchester          1\n",
       "Name: Crime_Type, Length: 126, dtype: int64"
      ]
     },
     "execution_count": 25,
     "metadata": {},
     "output_type": "execute_result"
    }
   ],
   "source": [
    "# Here we can see Westminster has the highest reported crime rate in all of London,\n",
    "# We can do further investigation into this, to see which crimes are reported.\n",
    "df.groupby('LSOA_Name').count()['Crime_Type'].sort_values(ascending = False)"
   ]
  },
  {
   "cell_type": "code",
   "execution_count": 26,
   "id": "f4faef3b",
   "metadata": {
    "execution": {
     "iopub.execute_input": "2024-06-08T19:52:40.214397Z",
     "iopub.status.busy": "2024-06-08T19:52:40.213590Z",
     "iopub.status.idle": "2024-06-08T19:52:40.230239Z",
     "shell.execute_reply": "2024-06-08T19:52:40.228541Z"
    },
    "papermill": {
     "duration": 0.035814,
     "end_time": "2024-06-08T19:52:40.232429",
     "exception": false,
     "start_time": "2024-06-08T19:52:40.196615",
     "status": "completed"
    },
    "tags": []
   },
   "outputs": [
    {
     "name": "stdout",
     "output_type": "stream",
     "text": [
      "List of boroughs: \n",
      "['Arun' 'Barking and Dagenham' 'Barnet' 'Basildon' 'Bedford' 'Bexley'\n",
      " 'Birmingham' 'Bracknell Forest' 'Bradford' 'Brent' 'Brentwood' 'Bromley'\n",
      " 'Broxbourne' 'Bury' 'Camden' 'Castle Point' 'Central Bedfordshire'\n",
      " 'Chelmsford' 'Cheshire West and Chester' 'Chiltern' 'City of London'\n",
      " 'Conwy' 'Cornwall' 'County Durham' 'Crawley' 'Croydon' 'Dacorum'\n",
      " 'Dartford' 'Denbighshire' 'Derbyshire Dales' 'Ealing'\n",
      " 'East Hertfordshire' 'Elmbridge' 'Enfield' 'Epping Forest'\n",
      " 'Epsom and Ewell' 'Exeter' 'Flintshire' 'Gravesham' 'Great Yarmouth'\n",
      " 'Greenwich' 'Hackney' 'Hammersmith and Fulham' 'Haringey' 'Harlow'\n",
      " 'Harrow' 'Hastings' 'Havering' 'Herefordshire' 'Hertsmere' 'Hillingdon'\n",
      " 'Horsham' 'Hounslow' 'Islington' 'Kensington and Chelsea'\n",
      " 'Kingston upon Thames' 'Lambeth' 'Leeds' 'Lewisham' 'Liverpool' 'Luton'\n",
      " 'Maidstone' 'Maldon' 'Manchester' 'Medway' 'Merton' 'Mid Sussex'\n",
      " 'Milton Keynes' 'Newham' 'Newport' 'Northampton' 'North Devon'\n",
      " 'North Tyneside' 'Northumberland' 'North Warwickshire' 'Nottingham'\n",
      " 'Oxford' 'Peterborough' 'Reading' 'Redbridge' 'Reigate and Banstead'\n",
      " 'Richmond upon Thames' 'Rochford' 'Rotherham' 'Rugby' 'Runnymede'\n",
      " 'Salford' 'Sandwell' 'Sevenoaks' 'Sheffield' 'Slough' 'Southampton'\n",
      " 'South Bucks' 'South Northamptonshire' 'Southwark' 'Spelthorne'\n",
      " 'St Albans' 'St Edmundsbury' 'Suffolk Coastal' 'Sutton' 'Swale' 'Swindon'\n",
      " 'Tandridge' 'Tendring' 'Test Valley' 'Thanet' 'Three Rivers' 'Thurrock'\n",
      " 'Tonbridge and Malling' 'Tower Hamlets' 'Waltham Forest' 'Wandsworth'\n",
      " 'Warwick' 'Watford' 'Waveney' 'Wealden' 'Welwyn Hatfield'\n",
      " 'West Berkshire' 'Westminster' 'Weymouth and Portland' 'Wiltshire'\n",
      " 'Windsor and Maidenhead' 'Woking' 'Wolverhampton' 'Wychavon' 'Wycombe'\n",
      " nan]\n"
     ]
    }
   ],
   "source": [
    "print(\"List of boroughs: \")\n",
    "print(df['LSOA_Name'].unique())"
   ]
  },
  {
   "cell_type": "code",
   "execution_count": 27,
   "id": "68e72b84",
   "metadata": {
    "execution": {
     "iopub.execute_input": "2024-06-08T19:52:40.350086Z",
     "iopub.status.busy": "2024-06-08T19:52:40.349577Z",
     "iopub.status.idle": "2024-06-08T19:52:40.786924Z",
     "shell.execute_reply": "2024-06-08T19:52:40.785673Z"
    },
    "papermill": {
     "duration": 0.455284,
     "end_time": "2024-06-08T19:52:40.789409",
     "exception": false,
     "start_time": "2024-06-08T19:52:40.334125",
     "status": "completed"
    },
    "tags": []
   },
   "outputs": [
    {
     "data": {
      "text/plain": [
       "Text(0, 0.5, 'Count')"
      ]
     },
     "execution_count": 27,
     "metadata": {},
     "output_type": "execute_result"
    },
    {
     "data": {
      "image/png": "[encoded data removed]",
      "text/plain": [
       "<Figure size 640x480 with 1 Axes>"
      ]
     },
     "metadata": {},
     "output_type": "display_data"
    }
   ],
   "source": [
    "# Plotted a simple bar chart, showing the most reported crime in Westminster\n",
    "ax = df['Crime_Type'].value_counts() \\\n",
    ".plot(kind='bar', title='Crimes reported in Jan-2020 in London')\n",
    "\n",
    "ax.set_xlabel('Crime Catagory')\n",
    "ax.set_ylabel('Count')"
   ]
  },
  {
   "cell_type": "code",
   "execution_count": 28,
   "id": "8cac872d",
   "metadata": {
    "execution": {
     "iopub.execute_input": "2024-06-08T19:52:40.821757Z",
     "iopub.status.busy": "2024-06-08T19:52:40.820886Z",
     "iopub.status.idle": "2024-06-08T19:52:40.850428Z",
     "shell.execute_reply": "2024-06-08T19:52:40.849251Z"
    },
    "papermill": {
     "duration": 0.048756,
     "end_time": "2024-06-08T19:52:40.852887",
     "exception": false,
     "start_time": "2024-06-08T19:52:40.804131",
     "status": "completed"
    },
    "tags": []
   },
   "outputs": [
    {
     "data": {
      "text/html": [
       "<div>\n",
       "<style scoped>\n",
       "    .dataframe tbody tr th:only-of-type {\n",
       "        vertical-align: middle;\n",
       "    }\n",
       "\n",
       "    .dataframe tbody tr th {\n",
       "        vertical-align: top;\n",
       "    }\n",
       "\n",
       "    .dataframe thead th {\n",
       "        text-align: right;\n",
       "    }\n",
       "</style>\n",
       "<table border=\"1\" class=\"dataframe\">\n",
       "  <thead>\n",
       "    <tr style=\"text-align: right;\">\n",
       "      <th></th>\n",
       "      <th>Date</th>\n",
       "      <th>Reporting_Police_Force</th>\n",
       "      <th>Location</th>\n",
       "      <th>LSOA_Name</th>\n",
       "      <th>Crime_Type</th>\n",
       "      <th>Last_Outcome_Category</th>\n",
       "    </tr>\n",
       "  </thead>\n",
       "  <tbody>\n",
       "    <tr>\n",
       "      <th>1</th>\n",
       "      <td>2020-01-01</td>\n",
       "      <td>Metropolitan Police Service</td>\n",
       "      <td>On or near Police Station</td>\n",
       "      <td>Barking and Dagenham</td>\n",
       "      <td>Anti-social behaviour</td>\n",
       "      <td>NaN</td>\n",
       "    </tr>\n",
       "    <tr>\n",
       "      <th>2</th>\n",
       "      <td>2020-01-01</td>\n",
       "      <td>Metropolitan Police Service</td>\n",
       "      <td>On or near Beansland Grove</td>\n",
       "      <td>Barking and Dagenham</td>\n",
       "      <td>Anti-social behaviour</td>\n",
       "      <td>NaN</td>\n",
       "    </tr>\n",
       "    <tr>\n",
       "      <th>3</th>\n",
       "      <td>2020-01-01</td>\n",
       "      <td>Metropolitan Police Service</td>\n",
       "      <td>On or near Police Station</td>\n",
       "      <td>Barking and Dagenham</td>\n",
       "      <td>Anti-social behaviour</td>\n",
       "      <td>NaN</td>\n",
       "    </tr>\n",
       "    <tr>\n",
       "      <th>4</th>\n",
       "      <td>2020-01-01</td>\n",
       "      <td>Metropolitan Police Service</td>\n",
       "      <td>On or near Furze Farm Close</td>\n",
       "      <td>Barking and Dagenham</td>\n",
       "      <td>Anti-social behaviour</td>\n",
       "      <td>NaN</td>\n",
       "    </tr>\n",
       "    <tr>\n",
       "      <th>5</th>\n",
       "      <td>2020-01-01</td>\n",
       "      <td>Metropolitan Police Service</td>\n",
       "      <td>On or near Police Station</td>\n",
       "      <td>Barking and Dagenham</td>\n",
       "      <td>Anti-social behaviour</td>\n",
       "      <td>NaN</td>\n",
       "    </tr>\n",
       "    <tr>\n",
       "      <th>...</th>\n",
       "      <td>...</td>\n",
       "      <td>...</td>\n",
       "      <td>...</td>\n",
       "      <td>...</td>\n",
       "      <td>...</td>\n",
       "      <td>...</td>\n",
       "    </tr>\n",
       "    <tr>\n",
       "      <th>90970</th>\n",
       "      <td>2020-01-01</td>\n",
       "      <td>Metropolitan Police Service</td>\n",
       "      <td>No Location</td>\n",
       "      <td>NaN</td>\n",
       "      <td>Violence and sexual offences</td>\n",
       "      <td>Awaiting court outcome</td>\n",
       "    </tr>\n",
       "    <tr>\n",
       "      <th>90971</th>\n",
       "      <td>2020-01-01</td>\n",
       "      <td>Metropolitan Police Service</td>\n",
       "      <td>No Location</td>\n",
       "      <td>NaN</td>\n",
       "      <td>Violence and sexual offences</td>\n",
       "      <td>Investigation complete; no suspect identified</td>\n",
       "    </tr>\n",
       "    <tr>\n",
       "      <th>90972</th>\n",
       "      <td>2020-01-01</td>\n",
       "      <td>Metropolitan Police Service</td>\n",
       "      <td>No Location</td>\n",
       "      <td>NaN</td>\n",
       "      <td>Violence and sexual offences</td>\n",
       "      <td>Investigation complete; no suspect identified</td>\n",
       "    </tr>\n",
       "    <tr>\n",
       "      <th>90973</th>\n",
       "      <td>2020-01-01</td>\n",
       "      <td>Metropolitan Police Service</td>\n",
       "      <td>No Location</td>\n",
       "      <td>NaN</td>\n",
       "      <td>Violence and sexual offences</td>\n",
       "      <td>Status update unavailable</td>\n",
       "    </tr>\n",
       "    <tr>\n",
       "      <th>90974</th>\n",
       "      <td>2020-01-01</td>\n",
       "      <td>Metropolitan Police Service</td>\n",
       "      <td>No Location</td>\n",
       "      <td>NaN</td>\n",
       "      <td>Violence and sexual offences</td>\n",
       "      <td>Investigation complete; no suspect identified</td>\n",
       "    </tr>\n",
       "  </tbody>\n",
       "</table>\n",
       "<p>80650 rows × 6 columns</p>\n",
       "</div>"
      ],
      "text/plain": [
       "            Date       Reporting_Police_Force                     Location  \\\n",
       "1     2020-01-01  Metropolitan Police Service    On or near Police Station   \n",
       "2     2020-01-01  Metropolitan Police Service   On or near Beansland Grove   \n",
       "3     2020-01-01  Metropolitan Police Service    On or near Police Station   \n",
       "4     2020-01-01  Metropolitan Police Service  On or near Furze Farm Close   \n",
       "5     2020-01-01  Metropolitan Police Service    On or near Police Station   \n",
       "...          ...                          ...                          ...   \n",
       "90970 2020-01-01  Metropolitan Police Service                  No Location   \n",
       "90971 2020-01-01  Metropolitan Police Service                  No Location   \n",
       "90972 2020-01-01  Metropolitan Police Service                  No Location   \n",
       "90973 2020-01-01  Metropolitan Police Service                  No Location   \n",
       "90974 2020-01-01  Metropolitan Police Service                  No Location   \n",
       "\n",
       "                  LSOA_Name                    Crime_Type  \\\n",
       "1      Barking and Dagenham         Anti-social behaviour   \n",
       "2      Barking and Dagenham         Anti-social behaviour   \n",
       "3      Barking and Dagenham         Anti-social behaviour   \n",
       "4      Barking and Dagenham         Anti-social behaviour   \n",
       "5      Barking and Dagenham         Anti-social behaviour   \n",
       "...                     ...                           ...   \n",
       "90970                   NaN  Violence and sexual offences   \n",
       "90971                   NaN  Violence and sexual offences   \n",
       "90972                   NaN  Violence and sexual offences   \n",
       "90973                   NaN  Violence and sexual offences   \n",
       "90974                   NaN  Violence and sexual offences   \n",
       "\n",
       "                               Last_Outcome_Category  \n",
       "1                                                NaN  \n",
       "2                                                NaN  \n",
       "3                                                NaN  \n",
       "4                                                NaN  \n",
       "5                                                NaN  \n",
       "...                                              ...  \n",
       "90970                         Awaiting court outcome  \n",
       "90971  Investigation complete; no suspect identified  \n",
       "90972  Investigation complete; no suspect identified  \n",
       "90973                      Status update unavailable  \n",
       "90974  Investigation complete; no suspect identified  \n",
       "\n",
       "[80650 rows x 6 columns]"
      ]
     },
     "execution_count": 28,
     "metadata": {},
     "output_type": "execute_result"
    }
   ],
   "source": [
    "filtered_crimes_df = df[~df['Crime_Type'].isin(['Other crime', 'Other theft'])]\n",
    "filtered_crimes_df"
   ]
  },
  {
   "cell_type": "code",
   "execution_count": 29,
   "id": "672c2963",
   "metadata": {
    "execution": {
     "iopub.execute_input": "2024-06-08T19:52:40.886876Z",
     "iopub.status.busy": "2024-06-08T19:52:40.885787Z",
     "iopub.status.idle": "2024-06-08T19:52:41.221495Z",
     "shell.execute_reply": "2024-06-08T19:52:41.220319Z"
    },
    "papermill": {
     "duration": 0.35446,
     "end_time": "2024-06-08T19:52:41.223946",
     "exception": false,
     "start_time": "2024-06-08T19:52:40.869486",
     "status": "completed"
    },
    "tags": []
   },
   "outputs": [
    {
     "data": {
      "text/plain": [
       "Text(0, 0.5, 'Count')"
      ]
     },
     "execution_count": 29,
     "metadata": {},
     "output_type": "execute_result"
    },
    {
     "data": {
      "image/png": "[encoded data removed]",
      "text/plain": [
       "<Figure size 640x480 with 1 Axes>"
      ]
     },
     "metadata": {},
     "output_type": "display_data"
    }
   ],
   "source": [
    "ax = filtered_crimes_df.query('LSOA_Name == \"Westminster\"')['Crime_Type'] \\\n",
    "    .value_counts() \\\n",
    "    .sort_values(ascending=True) \\\n",
    "    .plot(kind='barh', title='Crimes In Westminster')\n",
    "\n",
    "ax.set_xlabel('Crime Catagory')\n",
    "ax.set_ylabel('Count')"
   ]
  },
  {
   "cell_type": "code",
   "execution_count": 30,
   "id": "98de4e1b",
   "metadata": {
    "execution": {
     "iopub.execute_input": "2024-06-08T19:52:41.257495Z",
     "iopub.status.busy": "2024-06-08T19:52:41.257031Z",
     "iopub.status.idle": "2024-06-08T19:52:41.616005Z",
     "shell.execute_reply": "2024-06-08T19:52:41.614865Z"
    },
    "papermill": {
     "duration": 0.378803,
     "end_time": "2024-06-08T19:52:41.618490",
     "exception": false,
     "start_time": "2024-06-08T19:52:41.239687",
     "status": "completed"
    },
    "tags": []
   },
   "outputs": [
    {
     "data": {
      "text/plain": [
       "[]"
      ]
     },
     "execution_count": 30,
     "metadata": {},
     "output_type": "execute_result"
    },
    {
     "data": {
      "image/png": "[encoded data removed]",
      "text/plain": [
       "<Figure size 640x480 with 1 Axes>"
      ]
     },
     "metadata": {},
     "output_type": "display_data"
    }
   ],
   "source": [
    "# Plotting the same graph as above, but renaming the columns & making it look more presentable\n",
    "# As we can see, theft is the more frequent crime reported in this area\n",
    "\n",
    "westminster_crimestypes = filtered_crimes_df.query('LSOA_Name == \"Westminster\"')['Crime_Type'] \\\n",
    "    .value_counts() \\\n",
    "    .sort_values(ascending=False) \\\n",
    "    .reset_index()\n",
    "\n",
    "westminster_crimestypes.columns = ['Crime_Type', 'Count']\n",
    "\n",
    "\n",
    "ax = sns.barplot(x = 'Count', y='Crime_Type', data=westminster_crimestypes)\n",
    "ax.set_xlabel('Count')\n",
    "ax.set_ylabel('Crime Reported')\n",
    "ax.set_title('Crimes reported in Westminster in Jan-2020')\n",
    "ax.plot()"
   ]
  },
  {
   "cell_type": "code",
   "execution_count": 31,
   "id": "7bd8a3ed",
   "metadata": {
    "execution": {
     "iopub.execute_input": "2024-06-08T19:52:41.654914Z",
     "iopub.status.busy": "2024-06-08T19:52:41.653691Z",
     "iopub.status.idle": "2024-06-08T19:52:41.672047Z",
     "shell.execute_reply": "2024-06-08T19:52:41.670833Z"
    },
    "papermill": {
     "duration": 0.039398,
     "end_time": "2024-06-08T19:52:41.674610",
     "exception": false,
     "start_time": "2024-06-08T19:52:41.635212",
     "status": "completed"
    },
    "tags": []
   },
   "outputs": [
    {
     "data": {
      "text/plain": [
       "Crime_Type\n",
       "Anti-social behaviour           762\n",
       "Other theft                     727\n",
       "Violence and sexual offences    524\n",
       "Theft from the person           433\n",
       "Vehicle crime                   306\n",
       "Burglary                        272\n",
       "Drugs                           218\n",
       "Public order                    157\n",
       "Shoplifting                     143\n",
       "Criminal damage and arson       134\n",
       "Robbery                         129\n",
       "Bicycle theft                    86\n",
       "Possession of weapons            22\n",
       "Other crime                       7\n",
       "Name: count, dtype: int64"
      ]
     },
     "execution_count": 31,
     "metadata": {},
     "output_type": "execute_result"
    }
   ],
   "source": [
    "# In comparrison to Westminster, the greatest crime reported is Anti-social behaviour\n",
    "df.query('LSOA_Name == \"Camden\"')['Crime_Type'].value_counts()"
   ]
  },
  {
   "cell_type": "code",
   "execution_count": 32,
   "id": "1bdc28ff",
   "metadata": {
    "execution": {
     "iopub.execute_input": "2024-06-08T19:52:41.710882Z",
     "iopub.status.busy": "2024-06-08T19:52:41.710418Z",
     "iopub.status.idle": "2024-06-08T19:52:41.997292Z",
     "shell.execute_reply": "2024-06-08T19:52:41.995728Z"
    },
    "papermill": {
     "duration": 0.310012,
     "end_time": "2024-06-08T19:52:42.001715",
     "exception": false,
     "start_time": "2024-06-08T19:52:41.691703",
     "status": "completed"
    },
    "tags": []
   },
   "outputs": [
    {
     "data": {
      "text/plain": [
       "[]"
      ]
     },
     "execution_count": 32,
     "metadata": {},
     "output_type": "execute_result"
    },
    {
     "data": {
      "image/png": "[encoded data removed]",
      "text/plain": [
       "<Figure size 640x480 with 1 Axes>"
      ]
     },
     "metadata": {},
     "output_type": "display_data"
    }
   ],
   "source": [
    "# Here we plot a pie chart, showing the pertentages as a comparrison to Westminster\n",
    "\n",
    "df_column_drops = df[~df['Crime_Type'].isin(['Other crime', 'Other theft'])]\n",
    "\n",
    "ax = df_column_drops.query('LSOA_Name == \"Camden\"')['Crime_Type'] \\\n",
    "    .value_counts() \\\n",
    "    .sort_values(ascending=True) \\\n",
    "    .plot(kind='pie', title='Crimes In Camden', autopct='%.2f%%')\n",
    "\n",
    "ax.set_xlabel('Crime Catagory')\n",
    "ax.set_ylabel('Count')\n",
    "ax.plot()"
   ]
  },
  {
   "cell_type": "markdown",
   "id": "d81ca3ec",
   "metadata": {
    "papermill": {
     "duration": 0.022051,
     "end_time": "2024-06-08T19:52:42.054912",
     "exception": false,
     "start_time": "2024-06-08T19:52:42.032861",
     "status": "completed"
    },
    "tags": []
   },
   "source": [
    "# Step 4: Asking a question about the data using a plot or statistic\n",
    "- What is the correlation between drug use & theft"
   ]
  },
  {
   "cell_type": "code",
   "execution_count": 33,
   "id": "23e4589e",
   "metadata": {
    "execution": {
     "iopub.execute_input": "2024-06-08T19:52:42.095544Z",
     "iopub.status.busy": "2024-06-08T19:52:42.094643Z",
     "iopub.status.idle": "2024-06-08T19:52:42.261053Z",
     "shell.execute_reply": "2024-06-08T19:52:42.259966Z"
    },
    "papermill": {
     "duration": 0.189041,
     "end_time": "2024-06-08T19:52:42.263629",
     "exception": false,
     "start_time": "2024-06-08T19:52:42.074588",
     "status": "completed"
    },
    "tags": []
   },
   "outputs": [
    {
     "name": "stdout",
     "output_type": "stream",
     "text": [
      "Pivot Table, showing the statistics of each crime in each borough\n"
     ]
    },
    {
     "data": {
      "text/html": [
       "<div>\n",
       "<style scoped>\n",
       "    .dataframe tbody tr th:only-of-type {\n",
       "        vertical-align: middle;\n",
       "    }\n",
       "\n",
       "    .dataframe tbody tr th {\n",
       "        vertical-align: top;\n",
       "    }\n",
       "\n",
       "    .dataframe thead tr th {\n",
       "        text-align: left;\n",
       "    }\n",
       "\n",
       "    .dataframe thead tr:last-of-type th {\n",
       "        text-align: right;\n",
       "    }\n",
       "</style>\n",
       "<table border=\"1\" class=\"dataframe\">\n",
       "  <thead>\n",
       "    <tr>\n",
       "      <th></th>\n",
       "      <th colspan=\"12\" halign=\"left\">Date</th>\n",
       "      <th colspan=\"12\" halign=\"left\">Last_Outcome_Category</th>\n",
       "      <th colspan=\"12\" halign=\"left\">Location</th>\n",
       "      <th colspan=\"12\" halign=\"left\">Reporting_Police_Force</th>\n",
       "    </tr>\n",
       "    <tr>\n",
       "      <th>Crime_Type</th>\n",
       "      <th>Anti-social behaviour</th>\n",
       "      <th>Bicycle theft</th>\n",
       "      <th>Burglary</th>\n",
       "      <th>Criminal damage and arson</th>\n",
       "      <th>Drugs</th>\n",
       "      <th>Possession of weapons</th>\n",
       "      <th>Public order</th>\n",
       "      <th>Robbery</th>\n",
       "      <th>Shoplifting</th>\n",
       "      <th>Theft from the person</th>\n",
       "      <th>Vehicle crime</th>\n",
       "      <th>Violence and sexual offences</th>\n",
       "      <th>Anti-social behaviour</th>\n",
       "      <th>Bicycle theft</th>\n",
       "      <th>Burglary</th>\n",
       "      <th>Criminal damage and arson</th>\n",
       "      <th>Drugs</th>\n",
       "      <th>Possession of weapons</th>\n",
       "      <th>Public order</th>\n",
       "      <th>Robbery</th>\n",
       "      <th>Shoplifting</th>\n",
       "      <th>Theft from the person</th>\n",
       "      <th>Vehicle crime</th>\n",
       "      <th>Violence and sexual offences</th>\n",
       "      <th>Anti-social behaviour</th>\n",
       "      <th>Bicycle theft</th>\n",
       "      <th>Burglary</th>\n",
       "      <th>Criminal damage and arson</th>\n",
       "      <th>Drugs</th>\n",
       "      <th>Possession of weapons</th>\n",
       "      <th>Public order</th>\n",
       "      <th>Robbery</th>\n",
       "      <th>Shoplifting</th>\n",
       "      <th>Theft from the person</th>\n",
       "      <th>Vehicle crime</th>\n",
       "      <th>Violence and sexual offences</th>\n",
       "      <th>Anti-social behaviour</th>\n",
       "      <th>Bicycle theft</th>\n",
       "      <th>Burglary</th>\n",
       "      <th>Criminal damage and arson</th>\n",
       "      <th>Drugs</th>\n",
       "      <th>Possession of weapons</th>\n",
       "      <th>Public order</th>\n",
       "      <th>Robbery</th>\n",
       "      <th>Shoplifting</th>\n",
       "      <th>Theft from the person</th>\n",
       "      <th>Vehicle crime</th>\n",
       "      <th>Violence and sexual offences</th>\n",
       "    </tr>\n",
       "    <tr>\n",
       "      <th>LSOA_Name</th>\n",
       "      <th></th>\n",
       "      <th></th>\n",
       "      <th></th>\n",
       "      <th></th>\n",
       "      <th></th>\n",
       "      <th></th>\n",
       "      <th></th>\n",
       "      <th></th>\n",
       "      <th></th>\n",
       "      <th></th>\n",
       "      <th></th>\n",
       "      <th></th>\n",
       "      <th></th>\n",
       "      <th></th>\n",
       "      <th></th>\n",
       "      <th></th>\n",
       "      <th></th>\n",
       "      <th></th>\n",
       "      <th></th>\n",
       "      <th></th>\n",
       "      <th></th>\n",
       "      <th></th>\n",
       "      <th></th>\n",
       "      <th></th>\n",
       "      <th></th>\n",
       "      <th></th>\n",
       "      <th></th>\n",
       "      <th></th>\n",
       "      <th></th>\n",
       "      <th></th>\n",
       "      <th></th>\n",
       "      <th></th>\n",
       "      <th></th>\n",
       "      <th></th>\n",
       "      <th></th>\n",
       "      <th></th>\n",
       "      <th></th>\n",
       "      <th></th>\n",
       "      <th></th>\n",
       "      <th></th>\n",
       "      <th></th>\n",
       "      <th></th>\n",
       "      <th></th>\n",
       "      <th></th>\n",
       "      <th></th>\n",
       "      <th></th>\n",
       "      <th></th>\n",
       "      <th></th>\n",
       "    </tr>\n",
       "  </thead>\n",
       "  <tbody>\n",
       "    <tr>\n",
       "      <th>Westminster</th>\n",
       "      <td>1119.0</td>\n",
       "      <td>111.0</td>\n",
       "      <td>411.0</td>\n",
       "      <td>149.0</td>\n",
       "      <td>329.0</td>\n",
       "      <td>41.0</td>\n",
       "      <td>229.0</td>\n",
       "      <td>359.0</td>\n",
       "      <td>428.0</td>\n",
       "      <td>1265.0</td>\n",
       "      <td>423.0</td>\n",
       "      <td>822.0</td>\n",
       "      <td>0.0</td>\n",
       "      <td>111.0</td>\n",
       "      <td>411.0</td>\n",
       "      <td>149.0</td>\n",
       "      <td>329.0</td>\n",
       "      <td>41.0</td>\n",
       "      <td>229.0</td>\n",
       "      <td>359.0</td>\n",
       "      <td>428.0</td>\n",
       "      <td>1265.0</td>\n",
       "      <td>423.0</td>\n",
       "      <td>822.0</td>\n",
       "      <td>1119.0</td>\n",
       "      <td>111.0</td>\n",
       "      <td>411.0</td>\n",
       "      <td>149.0</td>\n",
       "      <td>329.0</td>\n",
       "      <td>41.0</td>\n",
       "      <td>229.0</td>\n",
       "      <td>359.0</td>\n",
       "      <td>428.0</td>\n",
       "      <td>1265.0</td>\n",
       "      <td>423.0</td>\n",
       "      <td>822.0</td>\n",
       "      <td>1119.0</td>\n",
       "      <td>111.0</td>\n",
       "      <td>411.0</td>\n",
       "      <td>149.0</td>\n",
       "      <td>329.0</td>\n",
       "      <td>41.0</td>\n",
       "      <td>229.0</td>\n",
       "      <td>359.0</td>\n",
       "      <td>428.0</td>\n",
       "      <td>1265.0</td>\n",
       "      <td>423.0</td>\n",
       "      <td>822.0</td>\n",
       "    </tr>\n",
       "    <tr>\n",
       "      <th>Tower Hamlets</th>\n",
       "      <td>1014.0</td>\n",
       "      <td>85.0</td>\n",
       "      <td>262.0</td>\n",
       "      <td>171.0</td>\n",
       "      <td>216.0</td>\n",
       "      <td>19.0</td>\n",
       "      <td>173.0</td>\n",
       "      <td>121.0</td>\n",
       "      <td>74.0</td>\n",
       "      <td>152.0</td>\n",
       "      <td>335.0</td>\n",
       "      <td>667.0</td>\n",
       "      <td>0.0</td>\n",
       "      <td>85.0</td>\n",
       "      <td>262.0</td>\n",
       "      <td>171.0</td>\n",
       "      <td>216.0</td>\n",
       "      <td>19.0</td>\n",
       "      <td>173.0</td>\n",
       "      <td>121.0</td>\n",
       "      <td>74.0</td>\n",
       "      <td>152.0</td>\n",
       "      <td>335.0</td>\n",
       "      <td>667.0</td>\n",
       "      <td>1014.0</td>\n",
       "      <td>85.0</td>\n",
       "      <td>262.0</td>\n",
       "      <td>171.0</td>\n",
       "      <td>216.0</td>\n",
       "      <td>19.0</td>\n",
       "      <td>173.0</td>\n",
       "      <td>121.0</td>\n",
       "      <td>74.0</td>\n",
       "      <td>152.0</td>\n",
       "      <td>335.0</td>\n",
       "      <td>667.0</td>\n",
       "      <td>1014.0</td>\n",
       "      <td>85.0</td>\n",
       "      <td>262.0</td>\n",
       "      <td>171.0</td>\n",
       "      <td>216.0</td>\n",
       "      <td>19.0</td>\n",
       "      <td>173.0</td>\n",
       "      <td>121.0</td>\n",
       "      <td>74.0</td>\n",
       "      <td>152.0</td>\n",
       "      <td>335.0</td>\n",
       "      <td>667.0</td>\n",
       "    </tr>\n",
       "    <tr>\n",
       "      <th>Ealing</th>\n",
       "      <td>829.0</td>\n",
       "      <td>20.0</td>\n",
       "      <td>251.0</td>\n",
       "      <td>199.0</td>\n",
       "      <td>155.0</td>\n",
       "      <td>18.0</td>\n",
       "      <td>170.0</td>\n",
       "      <td>83.0</td>\n",
       "      <td>110.0</td>\n",
       "      <td>52.0</td>\n",
       "      <td>504.0</td>\n",
       "      <td>699.0</td>\n",
       "      <td>0.0</td>\n",
       "      <td>20.0</td>\n",
       "      <td>251.0</td>\n",
       "      <td>199.0</td>\n",
       "      <td>155.0</td>\n",
       "      <td>18.0</td>\n",
       "      <td>170.0</td>\n",
       "      <td>83.0</td>\n",
       "      <td>110.0</td>\n",
       "      <td>52.0</td>\n",
       "      <td>504.0</td>\n",
       "      <td>699.0</td>\n",
       "      <td>829.0</td>\n",
       "      <td>20.0</td>\n",
       "      <td>251.0</td>\n",
       "      <td>199.0</td>\n",
       "      <td>155.0</td>\n",
       "      <td>18.0</td>\n",
       "      <td>170.0</td>\n",
       "      <td>83.0</td>\n",
       "      <td>110.0</td>\n",
       "      <td>52.0</td>\n",
       "      <td>504.0</td>\n",
       "      <td>699.0</td>\n",
       "      <td>829.0</td>\n",
       "      <td>20.0</td>\n",
       "      <td>251.0</td>\n",
       "      <td>199.0</td>\n",
       "      <td>155.0</td>\n",
       "      <td>18.0</td>\n",
       "      <td>170.0</td>\n",
       "      <td>83.0</td>\n",
       "      <td>110.0</td>\n",
       "      <td>52.0</td>\n",
       "      <td>504.0</td>\n",
       "      <td>699.0</td>\n",
       "    </tr>\n",
       "    <tr>\n",
       "      <th>Camden</th>\n",
       "      <td>762.0</td>\n",
       "      <td>86.0</td>\n",
       "      <td>272.0</td>\n",
       "      <td>134.0</td>\n",
       "      <td>218.0</td>\n",
       "      <td>22.0</td>\n",
       "      <td>157.0</td>\n",
       "      <td>129.0</td>\n",
       "      <td>143.0</td>\n",
       "      <td>433.0</td>\n",
       "      <td>306.0</td>\n",
       "      <td>524.0</td>\n",
       "      <td>0.0</td>\n",
       "      <td>86.0</td>\n",
       "      <td>272.0</td>\n",
       "      <td>134.0</td>\n",
       "      <td>218.0</td>\n",
       "      <td>22.0</td>\n",
       "      <td>157.0</td>\n",
       "      <td>129.0</td>\n",
       "      <td>143.0</td>\n",
       "      <td>433.0</td>\n",
       "      <td>306.0</td>\n",
       "      <td>524.0</td>\n",
       "      <td>762.0</td>\n",
       "      <td>86.0</td>\n",
       "      <td>272.0</td>\n",
       "      <td>134.0</td>\n",
       "      <td>218.0</td>\n",
       "      <td>22.0</td>\n",
       "      <td>157.0</td>\n",
       "      <td>129.0</td>\n",
       "      <td>143.0</td>\n",
       "      <td>433.0</td>\n",
       "      <td>306.0</td>\n",
       "      <td>524.0</td>\n",
       "      <td>762.0</td>\n",
       "      <td>86.0</td>\n",
       "      <td>272.0</td>\n",
       "      <td>134.0</td>\n",
       "      <td>218.0</td>\n",
       "      <td>22.0</td>\n",
       "      <td>157.0</td>\n",
       "      <td>129.0</td>\n",
       "      <td>143.0</td>\n",
       "      <td>433.0</td>\n",
       "      <td>306.0</td>\n",
       "      <td>524.0</td>\n",
       "    </tr>\n",
       "    <tr>\n",
       "      <th>Lambeth</th>\n",
       "      <td>758.0</td>\n",
       "      <td>68.0</td>\n",
       "      <td>241.0</td>\n",
       "      <td>179.0</td>\n",
       "      <td>222.0</td>\n",
       "      <td>28.0</td>\n",
       "      <td>186.0</td>\n",
       "      <td>98.0</td>\n",
       "      <td>85.0</td>\n",
       "      <td>205.0</td>\n",
       "      <td>374.0</td>\n",
       "      <td>708.0</td>\n",
       "      <td>0.0</td>\n",
       "      <td>68.0</td>\n",
       "      <td>241.0</td>\n",
       "      <td>179.0</td>\n",
       "      <td>222.0</td>\n",
       "      <td>28.0</td>\n",
       "      <td>186.0</td>\n",
       "      <td>98.0</td>\n",
       "      <td>85.0</td>\n",
       "      <td>205.0</td>\n",
       "      <td>374.0</td>\n",
       "      <td>708.0</td>\n",
       "      <td>758.0</td>\n",
       "      <td>68.0</td>\n",
       "      <td>241.0</td>\n",
       "      <td>179.0</td>\n",
       "      <td>222.0</td>\n",
       "      <td>28.0</td>\n",
       "      <td>186.0</td>\n",
       "      <td>98.0</td>\n",
       "      <td>85.0</td>\n",
       "      <td>205.0</td>\n",
       "      <td>374.0</td>\n",
       "      <td>708.0</td>\n",
       "      <td>758.0</td>\n",
       "      <td>68.0</td>\n",
       "      <td>241.0</td>\n",
       "      <td>179.0</td>\n",
       "      <td>222.0</td>\n",
       "      <td>28.0</td>\n",
       "      <td>186.0</td>\n",
       "      <td>98.0</td>\n",
       "      <td>85.0</td>\n",
       "      <td>205.0</td>\n",
       "      <td>374.0</td>\n",
       "      <td>708.0</td>\n",
       "    </tr>\n",
       "    <tr>\n",
       "      <th>Brent</th>\n",
       "      <td>737.0</td>\n",
       "      <td>17.0</td>\n",
       "      <td>223.0</td>\n",
       "      <td>157.0</td>\n",
       "      <td>126.0</td>\n",
       "      <td>14.0</td>\n",
       "      <td>141.0</td>\n",
       "      <td>100.0</td>\n",
       "      <td>94.0</td>\n",
       "      <td>62.0</td>\n",
       "      <td>437.0</td>\n",
       "      <td>668.0</td>\n",
       "      <td>0.0</td>\n",
       "      <td>17.0</td>\n",
       "      <td>223.0</td>\n",
       "      <td>157.0</td>\n",
       "      <td>126.0</td>\n",
       "      <td>14.0</td>\n",
       "      <td>141.0</td>\n",
       "      <td>100.0</td>\n",
       "      <td>94.0</td>\n",
       "      <td>62.0</td>\n",
       "      <td>437.0</td>\n",
       "      <td>668.0</td>\n",
       "      <td>737.0</td>\n",
       "      <td>17.0</td>\n",
       "      <td>223.0</td>\n",
       "      <td>157.0</td>\n",
       "      <td>126.0</td>\n",
       "      <td>14.0</td>\n",
       "      <td>141.0</td>\n",
       "      <td>100.0</td>\n",
       "      <td>94.0</td>\n",
       "      <td>62.0</td>\n",
       "      <td>437.0</td>\n",
       "      <td>668.0</td>\n",
       "      <td>737.0</td>\n",
       "      <td>17.0</td>\n",
       "      <td>223.0</td>\n",
       "      <td>157.0</td>\n",
       "      <td>126.0</td>\n",
       "      <td>14.0</td>\n",
       "      <td>141.0</td>\n",
       "      <td>100.0</td>\n",
       "      <td>94.0</td>\n",
       "      <td>62.0</td>\n",
       "      <td>437.0</td>\n",
       "      <td>668.0</td>\n",
       "    </tr>\n",
       "    <tr>\n",
       "      <th>Southwark</th>\n",
       "      <td>719.0</td>\n",
       "      <td>91.0</td>\n",
       "      <td>241.0</td>\n",
       "      <td>160.0</td>\n",
       "      <td>175.0</td>\n",
       "      <td>22.0</td>\n",
       "      <td>168.0</td>\n",
       "      <td>172.0</td>\n",
       "      <td>81.0</td>\n",
       "      <td>193.0</td>\n",
       "      <td>400.0</td>\n",
       "      <td>751.0</td>\n",
       "      <td>0.0</td>\n",
       "      <td>91.0</td>\n",
       "      <td>241.0</td>\n",
       "      <td>160.0</td>\n",
       "      <td>175.0</td>\n",
       "      <td>22.0</td>\n",
       "      <td>168.0</td>\n",
       "      <td>172.0</td>\n",
       "      <td>81.0</td>\n",
       "      <td>193.0</td>\n",
       "      <td>400.0</td>\n",
       "      <td>751.0</td>\n",
       "      <td>719.0</td>\n",
       "      <td>91.0</td>\n",
       "      <td>241.0</td>\n",
       "      <td>160.0</td>\n",
       "      <td>175.0</td>\n",
       "      <td>22.0</td>\n",
       "      <td>168.0</td>\n",
       "      <td>172.0</td>\n",
       "      <td>81.0</td>\n",
       "      <td>193.0</td>\n",
       "      <td>400.0</td>\n",
       "      <td>751.0</td>\n",
       "      <td>719.0</td>\n",
       "      <td>91.0</td>\n",
       "      <td>241.0</td>\n",
       "      <td>160.0</td>\n",
       "      <td>175.0</td>\n",
       "      <td>22.0</td>\n",
       "      <td>168.0</td>\n",
       "      <td>172.0</td>\n",
       "      <td>81.0</td>\n",
       "      <td>193.0</td>\n",
       "      <td>400.0</td>\n",
       "      <td>751.0</td>\n",
       "    </tr>\n",
       "    <tr>\n",
       "      <th>Newham</th>\n",
       "      <td>672.0</td>\n",
       "      <td>17.0</td>\n",
       "      <td>190.0</td>\n",
       "      <td>152.0</td>\n",
       "      <td>209.0</td>\n",
       "      <td>11.0</td>\n",
       "      <td>162.0</td>\n",
       "      <td>209.0</td>\n",
       "      <td>179.0</td>\n",
       "      <td>165.0</td>\n",
       "      <td>371.0</td>\n",
       "      <td>767.0</td>\n",
       "      <td>0.0</td>\n",
       "      <td>17.0</td>\n",
       "      <td>190.0</td>\n",
       "      <td>152.0</td>\n",
       "      <td>209.0</td>\n",
       "      <td>11.0</td>\n",
       "      <td>162.0</td>\n",
       "      <td>209.0</td>\n",
       "      <td>179.0</td>\n",
       "      <td>165.0</td>\n",
       "      <td>371.0</td>\n",
       "      <td>767.0</td>\n",
       "      <td>672.0</td>\n",
       "      <td>17.0</td>\n",
       "      <td>190.0</td>\n",
       "      <td>152.0</td>\n",
       "      <td>209.0</td>\n",
       "      <td>11.0</td>\n",
       "      <td>162.0</td>\n",
       "      <td>209.0</td>\n",
       "      <td>179.0</td>\n",
       "      <td>165.0</td>\n",
       "      <td>371.0</td>\n",
       "      <td>767.0</td>\n",
       "      <td>672.0</td>\n",
       "      <td>17.0</td>\n",
       "      <td>190.0</td>\n",
       "      <td>152.0</td>\n",
       "      <td>209.0</td>\n",
       "      <td>11.0</td>\n",
       "      <td>162.0</td>\n",
       "      <td>209.0</td>\n",
       "      <td>179.0</td>\n",
       "      <td>165.0</td>\n",
       "      <td>371.0</td>\n",
       "      <td>767.0</td>\n",
       "    </tr>\n",
       "    <tr>\n",
       "      <th>Haringey</th>\n",
       "      <td>653.0</td>\n",
       "      <td>25.0</td>\n",
       "      <td>178.0</td>\n",
       "      <td>114.0</td>\n",
       "      <td>132.0</td>\n",
       "      <td>14.0</td>\n",
       "      <td>106.0</td>\n",
       "      <td>201.0</td>\n",
       "      <td>176.0</td>\n",
       "      <td>125.0</td>\n",
       "      <td>407.0</td>\n",
       "      <td>558.0</td>\n",
       "      <td>0.0</td>\n",
       "      <td>25.0</td>\n",
       "      <td>178.0</td>\n",
       "      <td>114.0</td>\n",
       "      <td>132.0</td>\n",
       "      <td>14.0</td>\n",
       "      <td>106.0</td>\n",
       "      <td>201.0</td>\n",
       "      <td>176.0</td>\n",
       "      <td>125.0</td>\n",
       "      <td>407.0</td>\n",
       "      <td>558.0</td>\n",
       "      <td>653.0</td>\n",
       "      <td>25.0</td>\n",
       "      <td>178.0</td>\n",
       "      <td>114.0</td>\n",
       "      <td>132.0</td>\n",
       "      <td>14.0</td>\n",
       "      <td>106.0</td>\n",
       "      <td>201.0</td>\n",
       "      <td>176.0</td>\n",
       "      <td>125.0</td>\n",
       "      <td>407.0</td>\n",
       "      <td>558.0</td>\n",
       "      <td>653.0</td>\n",
       "      <td>25.0</td>\n",
       "      <td>178.0</td>\n",
       "      <td>114.0</td>\n",
       "      <td>132.0</td>\n",
       "      <td>14.0</td>\n",
       "      <td>106.0</td>\n",
       "      <td>201.0</td>\n",
       "      <td>176.0</td>\n",
       "      <td>125.0</td>\n",
       "      <td>407.0</td>\n",
       "      <td>558.0</td>\n",
       "    </tr>\n",
       "    <tr>\n",
       "      <th>Hackney</th>\n",
       "      <td>652.0</td>\n",
       "      <td>86.0</td>\n",
       "      <td>193.0</td>\n",
       "      <td>142.0</td>\n",
       "      <td>144.0</td>\n",
       "      <td>18.0</td>\n",
       "      <td>136.0</td>\n",
       "      <td>166.0</td>\n",
       "      <td>79.0</td>\n",
       "      <td>252.0</td>\n",
       "      <td>293.0</td>\n",
       "      <td>672.0</td>\n",
       "      <td>0.0</td>\n",
       "      <td>86.0</td>\n",
       "      <td>193.0</td>\n",
       "      <td>142.0</td>\n",
       "      <td>144.0</td>\n",
       "      <td>18.0</td>\n",
       "      <td>136.0</td>\n",
       "      <td>166.0</td>\n",
       "      <td>79.0</td>\n",
       "      <td>252.0</td>\n",
       "      <td>293.0</td>\n",
       "      <td>672.0</td>\n",
       "      <td>652.0</td>\n",
       "      <td>86.0</td>\n",
       "      <td>193.0</td>\n",
       "      <td>142.0</td>\n",
       "      <td>144.0</td>\n",
       "      <td>18.0</td>\n",
       "      <td>136.0</td>\n",
       "      <td>166.0</td>\n",
       "      <td>79.0</td>\n",
       "      <td>252.0</td>\n",
       "      <td>293.0</td>\n",
       "      <td>672.0</td>\n",
       "      <td>652.0</td>\n",
       "      <td>86.0</td>\n",
       "      <td>193.0</td>\n",
       "      <td>142.0</td>\n",
       "      <td>144.0</td>\n",
       "      <td>18.0</td>\n",
       "      <td>136.0</td>\n",
       "      <td>166.0</td>\n",
       "      <td>79.0</td>\n",
       "      <td>252.0</td>\n",
       "      <td>293.0</td>\n",
       "      <td>672.0</td>\n",
       "    </tr>\n",
       "  </tbody>\n",
       "</table>\n",
       "</div>"
      ],
      "text/plain": [
       "                               Date                         \\\n",
       "Crime_Type    Anti-social behaviour Bicycle theft Burglary   \n",
       "LSOA_Name                                                    \n",
       "Westminster                  1119.0         111.0    411.0   \n",
       "Tower Hamlets                1014.0          85.0    262.0   \n",
       "Ealing                        829.0          20.0    251.0   \n",
       "Camden                        762.0          86.0    272.0   \n",
       "Lambeth                       758.0          68.0    241.0   \n",
       "Brent                         737.0          17.0    223.0   \n",
       "Southwark                     719.0          91.0    241.0   \n",
       "Newham                        672.0          17.0    190.0   \n",
       "Haringey                      653.0          25.0    178.0   \n",
       "Hackney                       652.0          86.0    193.0   \n",
       "\n",
       "                                                                      \\\n",
       "Crime_Type    Criminal damage and arson  Drugs Possession of weapons   \n",
       "LSOA_Name                                                              \n",
       "Westminster                       149.0  329.0                  41.0   \n",
       "Tower Hamlets                     171.0  216.0                  19.0   \n",
       "Ealing                            199.0  155.0                  18.0   \n",
       "Camden                            134.0  218.0                  22.0   \n",
       "Lambeth                           179.0  222.0                  28.0   \n",
       "Brent                             157.0  126.0                  14.0   \n",
       "Southwark                         160.0  175.0                  22.0   \n",
       "Newham                            152.0  209.0                  11.0   \n",
       "Haringey                          114.0  132.0                  14.0   \n",
       "Hackney                           142.0  144.0                  18.0   \n",
       "\n",
       "                                                                      \\\n",
       "Crime_Type    Public order Robbery Shoplifting Theft from the person   \n",
       "LSOA_Name                                                              \n",
       "Westminster          229.0   359.0       428.0                1265.0   \n",
       "Tower Hamlets        173.0   121.0        74.0                 152.0   \n",
       "Ealing               170.0    83.0       110.0                  52.0   \n",
       "Camden               157.0   129.0       143.0                 433.0   \n",
       "Lambeth              186.0    98.0        85.0                 205.0   \n",
       "Brent                141.0   100.0        94.0                  62.0   \n",
       "Southwark            168.0   172.0        81.0                 193.0   \n",
       "Newham               162.0   209.0       179.0                 165.0   \n",
       "Haringey             106.0   201.0       176.0                 125.0   \n",
       "Hackney              136.0   166.0        79.0                 252.0   \n",
       "\n",
       "                                                          \\\n",
       "Crime_Type    Vehicle crime Violence and sexual offences   \n",
       "LSOA_Name                                                  \n",
       "Westminster           423.0                        822.0   \n",
       "Tower Hamlets         335.0                        667.0   \n",
       "Ealing                504.0                        699.0   \n",
       "Camden                306.0                        524.0   \n",
       "Lambeth               374.0                        708.0   \n",
       "Brent                 437.0                        668.0   \n",
       "Southwark             400.0                        751.0   \n",
       "Newham                371.0                        767.0   \n",
       "Haringey              407.0                        558.0   \n",
       "Hackney               293.0                        672.0   \n",
       "\n",
       "              Last_Outcome_Category                         \\\n",
       "Crime_Type    Anti-social behaviour Bicycle theft Burglary   \n",
       "LSOA_Name                                                    \n",
       "Westminster                     0.0         111.0    411.0   \n",
       "Tower Hamlets                   0.0          85.0    262.0   \n",
       "Ealing                          0.0          20.0    251.0   \n",
       "Camden                          0.0          86.0    272.0   \n",
       "Lambeth                         0.0          68.0    241.0   \n",
       "Brent                           0.0          17.0    223.0   \n",
       "Southwark                       0.0          91.0    241.0   \n",
       "Newham                          0.0          17.0    190.0   \n",
       "Haringey                        0.0          25.0    178.0   \n",
       "Hackney                         0.0          86.0    193.0   \n",
       "\n",
       "                                                                      \\\n",
       "Crime_Type    Criminal damage and arson  Drugs Possession of weapons   \n",
       "LSOA_Name                                                              \n",
       "Westminster                       149.0  329.0                  41.0   \n",
       "Tower Hamlets                     171.0  216.0                  19.0   \n",
       "Ealing                            199.0  155.0                  18.0   \n",
       "Camden                            134.0  218.0                  22.0   \n",
       "Lambeth                           179.0  222.0                  28.0   \n",
       "Brent                             157.0  126.0                  14.0   \n",
       "Southwark                         160.0  175.0                  22.0   \n",
       "Newham                            152.0  209.0                  11.0   \n",
       "Haringey                          114.0  132.0                  14.0   \n",
       "Hackney                           142.0  144.0                  18.0   \n",
       "\n",
       "                                                                      \\\n",
       "Crime_Type    Public order Robbery Shoplifting Theft from the person   \n",
       "LSOA_Name                                                              \n",
       "Westminster          229.0   359.0       428.0                1265.0   \n",
       "Tower Hamlets        173.0   121.0        74.0                 152.0   \n",
       "Ealing               170.0    83.0       110.0                  52.0   \n",
       "Camden               157.0   129.0       143.0                 433.0   \n",
       "Lambeth              186.0    98.0        85.0                 205.0   \n",
       "Brent                141.0   100.0        94.0                  62.0   \n",
       "Southwark            168.0   172.0        81.0                 193.0   \n",
       "Newham               162.0   209.0       179.0                 165.0   \n",
       "Haringey             106.0   201.0       176.0                 125.0   \n",
       "Hackney              136.0   166.0        79.0                 252.0   \n",
       "\n",
       "                                                          \\\n",
       "Crime_Type    Vehicle crime Violence and sexual offences   \n",
       "LSOA_Name                                                  \n",
       "Westminster           423.0                        822.0   \n",
       "Tower Hamlets         335.0                        667.0   \n",
       "Ealing                504.0                        699.0   \n",
       "Camden                306.0                        524.0   \n",
       "Lambeth               374.0                        708.0   \n",
       "Brent                 437.0                        668.0   \n",
       "Southwark             400.0                        751.0   \n",
       "Newham                371.0                        767.0   \n",
       "Haringey              407.0                        558.0   \n",
       "Hackney               293.0                        672.0   \n",
       "\n",
       "                           Location                         \\\n",
       "Crime_Type    Anti-social behaviour Bicycle theft Burglary   \n",
       "LSOA_Name                                                    \n",
       "Westminster                  1119.0         111.0    411.0   \n",
       "Tower Hamlets                1014.0          85.0    262.0   \n",
       "Ealing                        829.0          20.0    251.0   \n",
       "Camden                        762.0          86.0    272.0   \n",
       "Lambeth                       758.0          68.0    241.0   \n",
       "Brent                         737.0          17.0    223.0   \n",
       "Southwark                     719.0          91.0    241.0   \n",
       "Newham                        672.0          17.0    190.0   \n",
       "Haringey                      653.0          25.0    178.0   \n",
       "Hackney                       652.0          86.0    193.0   \n",
       "\n",
       "                                                                      \\\n",
       "Crime_Type    Criminal damage and arson  Drugs Possession of weapons   \n",
       "LSOA_Name                                                              \n",
       "Westminster                       149.0  329.0                  41.0   \n",
       "Tower Hamlets                     171.0  216.0                  19.0   \n",
       "Ealing                            199.0  155.0                  18.0   \n",
       "Camden                            134.0  218.0                  22.0   \n",
       "Lambeth                           179.0  222.0                  28.0   \n",
       "Brent                             157.0  126.0                  14.0   \n",
       "Southwark                         160.0  175.0                  22.0   \n",
       "Newham                            152.0  209.0                  11.0   \n",
       "Haringey                          114.0  132.0                  14.0   \n",
       "Hackney                           142.0  144.0                  18.0   \n",
       "\n",
       "                                                                      \\\n",
       "Crime_Type    Public order Robbery Shoplifting Theft from the person   \n",
       "LSOA_Name                                                              \n",
       "Westminster          229.0   359.0       428.0                1265.0   \n",
       "Tower Hamlets        173.0   121.0        74.0                 152.0   \n",
       "Ealing               170.0    83.0       110.0                  52.0   \n",
       "Camden               157.0   129.0       143.0                 433.0   \n",
       "Lambeth              186.0    98.0        85.0                 205.0   \n",
       "Brent                141.0   100.0        94.0                  62.0   \n",
       "Southwark            168.0   172.0        81.0                 193.0   \n",
       "Newham               162.0   209.0       179.0                 165.0   \n",
       "Haringey             106.0   201.0       176.0                 125.0   \n",
       "Hackney              136.0   166.0        79.0                 252.0   \n",
       "\n",
       "                                                          \\\n",
       "Crime_Type    Vehicle crime Violence and sexual offences   \n",
       "LSOA_Name                                                  \n",
       "Westminster           423.0                        822.0   \n",
       "Tower Hamlets         335.0                        667.0   \n",
       "Ealing                504.0                        699.0   \n",
       "Camden                306.0                        524.0   \n",
       "Lambeth               374.0                        708.0   \n",
       "Brent                 437.0                        668.0   \n",
       "Southwark             400.0                        751.0   \n",
       "Newham                371.0                        767.0   \n",
       "Haringey              407.0                        558.0   \n",
       "Hackney               293.0                        672.0   \n",
       "\n",
       "              Reporting_Police_Force                         \\\n",
       "Crime_Type     Anti-social behaviour Bicycle theft Burglary   \n",
       "LSOA_Name                                                     \n",
       "Westminster                   1119.0         111.0    411.0   \n",
       "Tower Hamlets                 1014.0          85.0    262.0   \n",
       "Ealing                         829.0          20.0    251.0   \n",
       "Camden                         762.0          86.0    272.0   \n",
       "Lambeth                        758.0          68.0    241.0   \n",
       "Brent                          737.0          17.0    223.0   \n",
       "Southwark                      719.0          91.0    241.0   \n",
       "Newham                         672.0          17.0    190.0   \n",
       "Haringey                       653.0          25.0    178.0   \n",
       "Hackney                        652.0          86.0    193.0   \n",
       "\n",
       "                                                                      \\\n",
       "Crime_Type    Criminal damage and arson  Drugs Possession of weapons   \n",
       "LSOA_Name                                                              \n",
       "Westminster                       149.0  329.0                  41.0   \n",
       "Tower Hamlets                     171.0  216.0                  19.0   \n",
       "Ealing                            199.0  155.0                  18.0   \n",
       "Camden                            134.0  218.0                  22.0   \n",
       "Lambeth                           179.0  222.0                  28.0   \n",
       "Brent                             157.0  126.0                  14.0   \n",
       "Southwark                         160.0  175.0                  22.0   \n",
       "Newham                            152.0  209.0                  11.0   \n",
       "Haringey                          114.0  132.0                  14.0   \n",
       "Hackney                           142.0  144.0                  18.0   \n",
       "\n",
       "                                                                      \\\n",
       "Crime_Type    Public order Robbery Shoplifting Theft from the person   \n",
       "LSOA_Name                                                              \n",
       "Westminster          229.0   359.0       428.0                1265.0   \n",
       "Tower Hamlets        173.0   121.0        74.0                 152.0   \n",
       "Ealing               170.0    83.0       110.0                  52.0   \n",
       "Camden               157.0   129.0       143.0                 433.0   \n",
       "Lambeth              186.0    98.0        85.0                 205.0   \n",
       "Brent                141.0   100.0        94.0                  62.0   \n",
       "Southwark            168.0   172.0        81.0                 193.0   \n",
       "Newham               162.0   209.0       179.0                 165.0   \n",
       "Haringey             106.0   201.0       176.0                 125.0   \n",
       "Hackney              136.0   166.0        79.0                 252.0   \n",
       "\n",
       "                                                          \n",
       "Crime_Type    Vehicle crime Violence and sexual offences  \n",
       "LSOA_Name                                                 \n",
       "Westminster           423.0                        822.0  \n",
       "Tower Hamlets         335.0                        667.0  \n",
       "Ealing                504.0                        699.0  \n",
       "Camden                306.0                        524.0  \n",
       "Lambeth               374.0                        708.0  \n",
       "Brent                 437.0                        668.0  \n",
       "Southwark             400.0                        751.0  \n",
       "Newham                371.0                        767.0  \n",
       "Haringey              407.0                        558.0  \n",
       "Hackney               293.0                        672.0  "
      ]
     },
     "metadata": {},
     "output_type": "display_data"
    }
   ],
   "source": [
    "# Here we can create a pivot table, which removes the columns other crime & other theft, as \n",
    "# they dont provide any meaningful statistics\n",
    "\n",
    "df_table = df[~df['Crime_Type'].isin(['Other crime', 'Other theft'])] \\\n",
    ".pivot_table(columns = ['Crime_Type'], index='LSOA_Name', aggfunc= 'count')\n",
    "\n",
    "df_table_sorted = df_table.sort_values(by=df_table.columns.tolist(), ascending=False)\n",
    "\n",
    "print(\"Pivot Table, showing the statistics of each crime in each borough\")\n",
    "\n",
    "display(df_table_sorted.iloc[:10, :])"
   ]
  },
  {
   "cell_type": "code",
   "execution_count": 34,
   "id": "fda9b335",
   "metadata": {
    "execution": {
     "iopub.execute_input": "2024-06-08T19:52:42.305693Z",
     "iopub.status.busy": "2024-06-08T19:52:42.305227Z",
     "iopub.status.idle": "2024-06-08T19:52:42.314929Z",
     "shell.execute_reply": "2024-06-08T19:52:42.313555Z"
    },
    "papermill": {
     "duration": 0.034082,
     "end_time": "2024-06-08T19:52:42.317493",
     "exception": false,
     "start_time": "2024-06-08T19:52:42.283411",
     "status": "completed"
    },
    "tags": []
   },
   "outputs": [
    {
     "name": "stdout",
     "output_type": "stream",
     "text": [
      "The corrolation between drug use & robbery =  0.7376017622059313\n",
      "The corrolation between drug use & shop lifting =  0.5982733159391259\n"
     ]
    }
   ],
   "source": [
    "print(\"The corrolation between drug use & robbery = \", df_table[('Date', 'Robbery')].corr(df_table[('Date', 'Drugs')]))\n",
    "print(\"The corrolation between drug use & shop lifting = \", df_table[('Date', 'Shoplifting')].corr(df_table[('Date', 'Drugs')]))"
   ]
  },
  {
   "cell_type": "markdown",
   "id": "f0484c13",
   "metadata": {
    "papermill": {
     "duration": 0.019389,
     "end_time": "2024-06-08T19:52:42.356279",
     "exception": false,
     "start_time": "2024-06-08T19:52:42.336890",
     "status": "completed"
    },
    "tags": []
   },
   "source": [
    "- 0.74 indicates a strong positive correlation between drug-related crimes and robbery.\n",
    "- 0.6 indicates a moderately positive correlation between drug-related crimes and shoplifting.\n",
    "\n",
    "### While the correlation is not as strong as with robbery, it still suggests a tendency for areas with higher drug-related crimes to also have higher rates of shoplifting, and vice versa."
   ]
  },
  {
   "cell_type": "markdown",
   "id": "89b95280",
   "metadata": {
    "papermill": {
     "duration": 0.019399,
     "end_time": "2024-06-08T19:52:42.394947",
     "exception": false,
     "start_time": "2024-06-08T19:52:42.375548",
     "status": "completed"
    },
    "tags": []
   },
   "source": [
    "### Feedback is welcome"
   ]
  },
  {
   "cell_type": "code",
   "execution_count": null,
   "id": "b4ff1845",
   "metadata": {
    "papermill": {
     "duration": 0.01894,
     "end_time": "2024-06-08T19:52:42.433143",
     "exception": false,
     "start_time": "2024-06-08T19:52:42.414203",
     "status": "completed"
    },
    "tags": []
   },
   "outputs": [],
   "source": []
  }
 ],
 "metadata": {
  "kaggle": {
   "accelerator": "none",
   "dataSources": [
    {
     "datasetId": 1634688,
     "sourceId": 2685503,
     "sourceType": "datasetVersion"
    }
   ],
   "dockerImageVersionId": 30732,
   "isGpuEnabled": false,
   "isInternetEnabled": true,
   "language": "python",
   "sourceType": "notebook"
  },
  "kernelspec": {
   "display_name": "Python 3",
   "language": "python",
   "name": "python3"
  },
  "language_info": {
   "codemirror_mode": {
    "name": "ipython",
    "version": 3
   },
   "file_extension": ".py",
   "mimetype": "text/x-python",
   "name": "python",
   "nbconvert_exporter": "python",
   "pygments_lexer": "ipython3",
   "version": "3.10.13"
  },
  "papermill": {
   "default_parameters": {},
   "duration": 11.54554,
   "end_time": "2024-06-08T19:52:43.377909",
   "environment_variables": {},
   "exception": null,
   "input_path": "__notebook__.ipynb",
   "output_path": "__notebook__.ipynb",
   "parameters": {},
   "start_time": "2024-06-08T19:52:31.832369",
   "version": "2.5.0"
  }
 },
 "nbformat": 4,
 "nbformat_minor": 5
}
